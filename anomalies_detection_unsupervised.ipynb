{
 "cells": [
  {
   "cell_type": "code",
   "execution_count": 731,
   "id": "a2bef5be",
   "metadata": {},
   "outputs": [],
   "source": [
    "import pandas as pd\n",
    "import numpy as np\n",
    "import matplotlib.pyplot as plt\n",
    "import seaborn as sns\n",
    "import datetime as dt\n",
    "\n",
    "from sklearn.preprocessing import LabelEncoder\n",
    "from sklearn.ensemble import IsolationForest\n"
   ]
  },
  {
   "cell_type": "code",
   "execution_count": 732,
   "id": "3f9cd8e7",
   "metadata": {},
   "outputs": [
    {
     "data": {
      "text/html": [
       "<div>\n",
       "<style scoped>\n",
       "    .dataframe tbody tr th:only-of-type {\n",
       "        vertical-align: middle;\n",
       "    }\n",
       "\n",
       "    .dataframe tbody tr th {\n",
       "        vertical-align: top;\n",
       "    }\n",
       "\n",
       "    .dataframe thead th {\n",
       "        text-align: right;\n",
       "    }\n",
       "</style>\n",
       "<table border=\"1\" class=\"dataframe\">\n",
       "  <thead>\n",
       "    <tr style=\"text-align: right;\">\n",
       "      <th></th>\n",
       "      <th>account_number</th>\n",
       "      <th>card_id</th>\n",
       "      <th>amount</th>\n",
       "      <th>commission</th>\n",
       "      <th>currency</th>\n",
       "      <th>cr_date_time</th>\n",
       "      <th>up_date_time</th>\n",
       "      <th>status</th>\n",
       "      <th>sub_account_type_id</th>\n",
       "      <th>action_type</th>\n",
       "      <th>execution_code_id</th>\n",
       "      <th>workflow_id</th>\n",
       "      <th>service_provider_name</th>\n",
       "    </tr>\n",
       "    <tr>\n",
       "      <th>transaction_id</th>\n",
       "      <th></th>\n",
       "      <th></th>\n",
       "      <th></th>\n",
       "      <th></th>\n",
       "      <th></th>\n",
       "      <th></th>\n",
       "      <th></th>\n",
       "      <th></th>\n",
       "      <th></th>\n",
       "      <th></th>\n",
       "      <th></th>\n",
       "      <th></th>\n",
       "      <th></th>\n",
       "    </tr>\n",
       "  </thead>\n",
       "  <tbody>\n",
       "    <tr>\n",
       "      <th>3510436</th>\n",
       "      <td>1348079</td>\n",
       "      <td>NaN</td>\n",
       "      <td>1.03</td>\n",
       "      <td>0.03</td>\n",
       "      <td>USD</td>\n",
       "      <td>15/01/2022 00:02</td>\n",
       "      <td>15/01/2022 00:02</td>\n",
       "      <td>2</td>\n",
       "      <td>21.0</td>\n",
       "      <td>deposit</td>\n",
       "      <td>1103</td>\n",
       "      <td>NaN</td>\n",
       "      <td>Connectum</td>\n",
       "    </tr>\n",
       "    <tr>\n",
       "      <th>3510437</th>\n",
       "      <td>1348079</td>\n",
       "      <td>NaN</td>\n",
       "      <td>1.03</td>\n",
       "      <td>0.03</td>\n",
       "      <td>USD</td>\n",
       "      <td>15/01/2022 00:02</td>\n",
       "      <td>15/01/2022 00:02</td>\n",
       "      <td>2</td>\n",
       "      <td>21.0</td>\n",
       "      <td>deposit</td>\n",
       "      <td>1103</td>\n",
       "      <td>NaN</td>\n",
       "      <td>Connectum</td>\n",
       "    </tr>\n",
       "    <tr>\n",
       "      <th>3510438</th>\n",
       "      <td>1352538</td>\n",
       "      <td>e426dcb8cefd379e4e112aa8a7bc128a593a5e373829aa...</td>\n",
       "      <td>87.13</td>\n",
       "      <td>2.13</td>\n",
       "      <td>EUR</td>\n",
       "      <td>15/01/2022 00:02</td>\n",
       "      <td>15/01/2022 00:03</td>\n",
       "      <td>2</td>\n",
       "      <td>21.0</td>\n",
       "      <td>deposit</td>\n",
       "      <td>1102</td>\n",
       "      <td>NaN</td>\n",
       "      <td>Connectum</td>\n",
       "    </tr>\n",
       "    <tr>\n",
       "      <th>3510439</th>\n",
       "      <td>1324132</td>\n",
       "      <td>08ab089275ad53f0c88bb962ecf49494188d93e3524cb3...</td>\n",
       "      <td>20.50</td>\n",
       "      <td>0.50</td>\n",
       "      <td>EUR</td>\n",
       "      <td>15/01/2022 00:02</td>\n",
       "      <td>15/01/2022 00:02</td>\n",
       "      <td>2</td>\n",
       "      <td>21.0</td>\n",
       "      <td>deposit</td>\n",
       "      <td>1103</td>\n",
       "      <td>NaN</td>\n",
       "      <td>Connectum</td>\n",
       "    </tr>\n",
       "    <tr>\n",
       "      <th>3510441</th>\n",
       "      <td>1352538</td>\n",
       "      <td>e426dcb8cefd379e4e112aa8a7bc128a593a5e373829aa...</td>\n",
       "      <td>99.43</td>\n",
       "      <td>2.43</td>\n",
       "      <td>USD</td>\n",
       "      <td>15/01/2022 00:05</td>\n",
       "      <td>15/01/2022 00:05</td>\n",
       "      <td>2</td>\n",
       "      <td>21.0</td>\n",
       "      <td>deposit</td>\n",
       "      <td>1102</td>\n",
       "      <td>NaN</td>\n",
       "      <td>Connectum</td>\n",
       "    </tr>\n",
       "  </tbody>\n",
       "</table>\n",
       "</div>"
      ],
      "text/plain": [
       "                account_number  \\\n",
       "transaction_id                   \n",
       "3510436                1348079   \n",
       "3510437                1348079   \n",
       "3510438                1352538   \n",
       "3510439                1324132   \n",
       "3510441                1352538   \n",
       "\n",
       "                                                          card_id  amount  \\\n",
       "transaction_id                                                              \n",
       "3510436                                                       NaN    1.03   \n",
       "3510437                                                       NaN    1.03   \n",
       "3510438         e426dcb8cefd379e4e112aa8a7bc128a593a5e373829aa...   87.13   \n",
       "3510439         08ab089275ad53f0c88bb962ecf49494188d93e3524cb3...   20.50   \n",
       "3510441         e426dcb8cefd379e4e112aa8a7bc128a593a5e373829aa...   99.43   \n",
       "\n",
       "                commission currency      cr_date_time      up_date_time  \\\n",
       "transaction_id                                                            \n",
       "3510436               0.03      USD  15/01/2022 00:02  15/01/2022 00:02   \n",
       "3510437               0.03      USD  15/01/2022 00:02  15/01/2022 00:02   \n",
       "3510438               2.13      EUR  15/01/2022 00:02  15/01/2022 00:03   \n",
       "3510439               0.50      EUR  15/01/2022 00:02  15/01/2022 00:02   \n",
       "3510441               2.43      USD  15/01/2022 00:05  15/01/2022 00:05   \n",
       "\n",
       "                status  sub_account_type_id action_type  execution_code_id  \\\n",
       "transaction_id                                                               \n",
       "3510436              2                 21.0     deposit               1103   \n",
       "3510437              2                 21.0     deposit               1103   \n",
       "3510438              2                 21.0     deposit               1102   \n",
       "3510439              2                 21.0     deposit               1103   \n",
       "3510441              2                 21.0     deposit               1102   \n",
       "\n",
       "                workflow_id service_provider_name  \n",
       "transaction_id                                     \n",
       "3510436                 NaN             Connectum  \n",
       "3510437                 NaN             Connectum  \n",
       "3510438                 NaN             Connectum  \n",
       "3510439                 NaN             Connectum  \n",
       "3510441                 NaN             Connectum  "
      ]
     },
     "execution_count": 732,
     "metadata": {},
     "output_type": "execute_result"
    }
   ],
   "source": [
    "df = pd.read_csv(\"transactions.csv\", index_col=0)\n",
    "indexes = np.array(df.index)\n",
    "df.head()"
   ]
  },
  {
   "cell_type": "code",
   "execution_count": 733,
   "id": "4b5918e1",
   "metadata": {},
   "outputs": [
    {
     "data": {
      "text/plain": [
       "<AxesSubplot:xlabel='service_provider_name', ylabel='Count'>"
      ]
     },
     "execution_count": 733,
     "metadata": {},
     "output_type": "execute_result"
    },
    {
     "data": {
      "image/png": "[encoded data removed]",
      "text/plain": [
       "<Figure size 432x288 with 1 Axes>"
      ]
     },
     "metadata": {
      "needs_background": "light"
     },
     "output_type": "display_data"
    }
   ],
   "source": [
    "sns.histplot(data=df, x=\"service_provider_name\")"
   ]
  },
  {
   "cell_type": "code",
   "execution_count": 734,
   "id": "86127327",
   "metadata": {},
   "outputs": [
    {
     "data": {
      "text/plain": [
       "<AxesSubplot:xlabel='Count', ylabel='action_type'>"
      ]
     },
     "execution_count": 734,
     "metadata": {},
     "output_type": "execute_result"
    },
    {
     "data": {
      "image/png": "[encoded data removed]",
      "text/plain": [
       "<Figure size 432x288 with 1 Axes>"
      ]
     },
     "metadata": {
      "needs_background": "light"
     },
     "output_type": "display_data"
    }
   ],
   "source": [
    "sns.histplot(data=df, y=\"action_type\", hue=\"status\", palette=\"magma\", multiple=\"stack\")"
   ]
  },
  {
   "cell_type": "markdown",
   "id": "6b0b004e",
   "metadata": {},
   "source": [
    "##### **account_number** - уникальный идентификатор клиента\n",
    "\n",
    "#####  **card_id** - хэшированый номер карты, соответственно, уникальный идентификатор карты\n",
    "#####  **status:**\n",
    "- 1 - SUCCESSFULLY_COMPLETED - на стороне банка-эмитента и процессинг-партнера транзакция прошла успешно\n",
    "\n",
    "- 2 - COMPLETED_WITH_ERRORS - банк-эмитент или процессинг-партнер отказал в транзакции\n",
    "\n",
    "- 4 - OUTDATED - от процессинг-партнера не был получен ответ по статусу транзакции, считаем транзакцию не успешной\n",
    "\n",
    "#####  **action_type:**\n",
    "- deposit - депозит с собственной карты\n",
    "- withdrawal - вывод на собственную карту\n",
    "- 3rd_party_deposit - депозит с карты третьего лица\n",
    "- add_card - привязка собственной карты к счету\n",
    "- remove_card - отвязка карты от счета\n",
    "- card_status_update - обновление статусы привязанной карты\n"
   ]
  },
  {
   "cell_type": "code",
   "execution_count": 735,
   "id": "e0273a85",
   "metadata": {},
   "outputs": [
    {
     "data": {
      "text/plain": [
       "Index(['account_number', 'card_id', 'amount', 'commission', 'currency',\n",
       "       'cr_date_time', 'up_date_time', 'status', 'sub_account_type_id',\n",
       "       'action_type', 'execution_code_id', 'workflow_id',\n",
       "       'service_provider_name'],\n",
       "      dtype='object')"
      ]
     },
     "execution_count": 735,
     "metadata": {},
     "output_type": "execute_result"
    }
   ],
   "source": [
    "df.columns"
   ]
  },
  {
   "cell_type": "markdown",
   "id": "358f4e4c",
   "metadata": {},
   "source": [
    "# <a class=\"anchor\" id=\"1.5_bullet\" style=\"color:#b20999\"> **EDA** </a>\n",
    "---\n"
   ]
  },
  {
   "cell_type": "code",
   "execution_count": 736,
   "id": "bc5edb37",
   "metadata": {},
   "outputs": [
    {
     "data": {
      "text/plain": [
       "(38342, 13)"
      ]
     },
     "execution_count": 736,
     "metadata": {},
     "output_type": "execute_result"
    }
   ],
   "source": [
    "df.shape"
   ]
  },
  {
   "cell_type": "code",
   "execution_count": 737,
   "id": "0441473f",
   "metadata": {
    "scrolled": false
   },
   "outputs": [
    {
     "name": "stdout",
     "output_type": "stream",
     "text": [
      "<class 'pandas.core.frame.DataFrame'>\n",
      "Int64Index: 38342 entries, 3510436 to 3656629\n",
      "Data columns (total 13 columns):\n",
      " #   Column                 Non-Null Count  Dtype  \n",
      "---  ------                 --------------  -----  \n",
      " 0   account_number         38342 non-null  int64  \n",
      " 1   card_id                33577 non-null  object \n",
      " 2   amount                 34876 non-null  float64\n",
      " 3   commission             28773 non-null  float64\n",
      " 4   currency               34888 non-null  object \n",
      " 5   cr_date_time           38342 non-null  object \n",
      " 6   up_date_time           38342 non-null  object \n",
      " 7   status                 38342 non-null  int64  \n",
      " 8   sub_account_type_id    28775 non-null  float64\n",
      " 9   action_type            38342 non-null  object \n",
      " 10  execution_code_id      38342 non-null  int64  \n",
      " 11  workflow_id            14437 non-null  float64\n",
      " 12  service_provider_name  38342 non-null  object \n",
      "dtypes: float64(4), int64(3), object(6)\n",
      "memory usage: 4.1+ MB\n"
     ]
    }
   ],
   "source": [
    "df.info()"
   ]
  },
  {
   "cell_type": "code",
   "execution_count": null,
   "id": "d5f3dfed",
   "metadata": {},
   "outputs": [],
   "source": []
  },
  {
   "cell_type": "markdown",
   "id": "2c6b1b56",
   "metadata": {},
   "source": [
    "### <a class=\"anchor\" id=\"1.5_bullet\" style=\"color:orange\"> Date converting </a>\n",
    "---\n"
   ]
  },
  {
   "cell_type": "code",
   "execution_count": 738,
   "id": "5b6dfd56",
   "metadata": {
    "scrolled": true
   },
   "outputs": [
    {
     "name": "stdout",
     "output_type": "stream",
     "text": [
      "<class 'pandas.core.frame.DataFrame'>\n",
      "Int64Index: 38342 entries, 3510436 to 3656629\n",
      "Data columns (total 2 columns):\n",
      " #   Column        Non-Null Count  Dtype         \n",
      "---  ------        --------------  -----         \n",
      " 0   up_date_time  38342 non-null  datetime64[ns]\n",
      " 1   cr_date_time  38342 non-null  datetime64[ns]\n",
      "dtypes: datetime64[ns](2)\n",
      "memory usage: 898.6 KB\n"
     ]
    }
   ],
   "source": [
    "df[\"cr_date_time\"] = pd.to_datetime(df[\"cr_date_time\"], format='%d/%m/%Y %H:%M')\n",
    "df[\"up_date_time\"] = pd.to_datetime(df[\"up_date_time\"], format='%d/%m/%Y %H:%M') \n",
    "df[[\"up_date_time\", \"cr_date_time\"]].info()\n",
    "\n"
   ]
  },
  {
   "cell_type": "code",
   "execution_count": null,
   "id": "b14fbed0",
   "metadata": {},
   "outputs": [],
   "source": []
  },
  {
   "cell_type": "markdown",
   "id": "e98455cf",
   "metadata": {},
   "source": [
    "### <a class=\"anchor\" id=\"1.5_bullet\" style=\"color:orange\"> Currency converting (all to USD) </a>\n",
    "---\n"
   ]
  },
  {
   "cell_type": "code",
   "execution_count": 739,
   "id": "e137c540",
   "metadata": {
    "scrolled": true
   },
   "outputs": [
    {
     "data": {
      "text/plain": [
       "array(['USD', 'EUR', 'CHF', nan, 'GBP', 'JPY', 'RUB', 'PLN', 'SEK', 'CAD',\n",
       "       'NOK', 'CZK'], dtype=object)"
      ]
     },
     "execution_count": 739,
     "metadata": {},
     "output_type": "execute_result"
    }
   ],
   "source": [
    "df.currency.unique()"
   ]
  },
  {
   "cell_type": "markdown",
   "id": "f5fd9f58",
   "metadata": {},
   "source": [
    "<a> https://www.xe.com/currencyconverter/</a>"
   ]
  },
  {
   "cell_type": "code",
   "execution_count": 740,
   "id": "6e728de3",
   "metadata": {},
   "outputs": [],
   "source": [
    "CURRENCIES_IN_USD = {\n",
    "    \"USD\": 1,\n",
    "    \"EUR\": 1.1317052,\n",
    "    \"CHF\": 1.0912933,\n",
    "    \"GBP\": 1.3603224,\n",
    "    \"JPY\": 0.0087083516,\n",
    "    \"RUB\": 0.012537327,\n",
    "    \"PLN\": 0.24938132,\n",
    "    \"SEK\": 0.10601456,\n",
    "    \"CAD\": 0.78420079,\n",
    "    \"NOK\": 0.11110313,\n",
    "    \"CZK\": 0.0463485\n",
    "}\n",
    "\n"
   ]
  },
  {
   "cell_type": "code",
   "execution_count": 741,
   "id": "24ca296c",
   "metadata": {
    "scrolled": false
   },
   "outputs": [
    {
     "data": {
      "text/html": [
       "<div>\n",
       "<style scoped>\n",
       "    .dataframe tbody tr th:only-of-type {\n",
       "        vertical-align: middle;\n",
       "    }\n",
       "\n",
       "    .dataframe tbody tr th {\n",
       "        vertical-align: top;\n",
       "    }\n",
       "\n",
       "    .dataframe thead th {\n",
       "        text-align: right;\n",
       "    }\n",
       "</style>\n",
       "<table border=\"1\" class=\"dataframe\">\n",
       "  <thead>\n",
       "    <tr style=\"text-align: right;\">\n",
       "      <th></th>\n",
       "      <th>account_number</th>\n",
       "      <th>card_id</th>\n",
       "      <th>cr_date_time</th>\n",
       "      <th>up_date_time</th>\n",
       "      <th>status</th>\n",
       "      <th>sub_account_type_id</th>\n",
       "      <th>action_type</th>\n",
       "      <th>execution_code_id</th>\n",
       "      <th>workflow_id</th>\n",
       "      <th>service_provider_name</th>\n",
       "      <th>amount_in_usd</th>\n",
       "      <th>commission_in_usd</th>\n",
       "    </tr>\n",
       "    <tr>\n",
       "      <th>transaction_id</th>\n",
       "      <th></th>\n",
       "      <th></th>\n",
       "      <th></th>\n",
       "      <th></th>\n",
       "      <th></th>\n",
       "      <th></th>\n",
       "      <th></th>\n",
       "      <th></th>\n",
       "      <th></th>\n",
       "      <th></th>\n",
       "      <th></th>\n",
       "      <th></th>\n",
       "    </tr>\n",
       "  </thead>\n",
       "  <tbody>\n",
       "    <tr>\n",
       "      <th>3510436</th>\n",
       "      <td>1348079</td>\n",
       "      <td>NaN</td>\n",
       "      <td>2022-01-15 00:02:00</td>\n",
       "      <td>2022-01-15 00:02:00</td>\n",
       "      <td>2</td>\n",
       "      <td>21.0</td>\n",
       "      <td>deposit</td>\n",
       "      <td>1103</td>\n",
       "      <td>NaN</td>\n",
       "      <td>Connectum</td>\n",
       "      <td>1.030000</td>\n",
       "      <td>0.030000</td>\n",
       "    </tr>\n",
       "    <tr>\n",
       "      <th>3510437</th>\n",
       "      <td>1348079</td>\n",
       "      <td>NaN</td>\n",
       "      <td>2022-01-15 00:02:00</td>\n",
       "      <td>2022-01-15 00:02:00</td>\n",
       "      <td>2</td>\n",
       "      <td>21.0</td>\n",
       "      <td>deposit</td>\n",
       "      <td>1103</td>\n",
       "      <td>NaN</td>\n",
       "      <td>Connectum</td>\n",
       "      <td>1.030000</td>\n",
       "      <td>0.030000</td>\n",
       "    </tr>\n",
       "    <tr>\n",
       "      <th>3510438</th>\n",
       "      <td>1352538</td>\n",
       "      <td>e426dcb8cefd379e4e112aa8a7bc128a593a5e373829aa...</td>\n",
       "      <td>2022-01-15 00:02:00</td>\n",
       "      <td>2022-01-15 00:03:00</td>\n",
       "      <td>2</td>\n",
       "      <td>21.0</td>\n",
       "      <td>deposit</td>\n",
       "      <td>1102</td>\n",
       "      <td>NaN</td>\n",
       "      <td>Connectum</td>\n",
       "      <td>98.605474</td>\n",
       "      <td>2.410532</td>\n",
       "    </tr>\n",
       "    <tr>\n",
       "      <th>3510439</th>\n",
       "      <td>1324132</td>\n",
       "      <td>08ab089275ad53f0c88bb962ecf49494188d93e3524cb3...</td>\n",
       "      <td>2022-01-15 00:02:00</td>\n",
       "      <td>2022-01-15 00:02:00</td>\n",
       "      <td>2</td>\n",
       "      <td>21.0</td>\n",
       "      <td>deposit</td>\n",
       "      <td>1103</td>\n",
       "      <td>NaN</td>\n",
       "      <td>Connectum</td>\n",
       "      <td>23.199957</td>\n",
       "      <td>0.565853</td>\n",
       "    </tr>\n",
       "    <tr>\n",
       "      <th>3510441</th>\n",
       "      <td>1352538</td>\n",
       "      <td>e426dcb8cefd379e4e112aa8a7bc128a593a5e373829aa...</td>\n",
       "      <td>2022-01-15 00:05:00</td>\n",
       "      <td>2022-01-15 00:05:00</td>\n",
       "      <td>2</td>\n",
       "      <td>21.0</td>\n",
       "      <td>deposit</td>\n",
       "      <td>1102</td>\n",
       "      <td>NaN</td>\n",
       "      <td>Connectum</td>\n",
       "      <td>99.430000</td>\n",
       "      <td>2.430000</td>\n",
       "    </tr>\n",
       "    <tr>\n",
       "      <th>3510442</th>\n",
       "      <td>1334395</td>\n",
       "      <td>a70738de771bf54b217f6736c728920f09d847e45e9b32...</td>\n",
       "      <td>2022-01-15 00:05:00</td>\n",
       "      <td>2022-01-15 00:05:00</td>\n",
       "      <td>1</td>\n",
       "      <td>21.0</td>\n",
       "      <td>withdrawal</td>\n",
       "      <td>999</td>\n",
       "      <td>1846197.0</td>\n",
       "      <td>TransactPro</td>\n",
       "      <td>3.395116</td>\n",
       "      <td>1.788094</td>\n",
       "    </tr>\n",
       "    <tr>\n",
       "      <th>3510447</th>\n",
       "      <td>1368099</td>\n",
       "      <td>ff99628b3900b83d5e496bbfada92a64c121613dd08734...</td>\n",
       "      <td>2022-01-15 00:15:00</td>\n",
       "      <td>2022-01-15 00:16:00</td>\n",
       "      <td>1</td>\n",
       "      <td>22.0</td>\n",
       "      <td>deposit</td>\n",
       "      <td>0</td>\n",
       "      <td>1846198.0</td>\n",
       "      <td>TransactPro</td>\n",
       "      <td>500.000000</td>\n",
       "      <td>7.390000</td>\n",
       "    </tr>\n",
       "    <tr>\n",
       "      <th>3510462</th>\n",
       "      <td>1366821</td>\n",
       "      <td>ebdfc6799fd8ed2fb5209de4b46223536af2d588efb151...</td>\n",
       "      <td>2022-01-15 00:40:00</td>\n",
       "      <td>2022-01-15 00:40:00</td>\n",
       "      <td>1</td>\n",
       "      <td>21.0</td>\n",
       "      <td>withdrawal</td>\n",
       "      <td>0</td>\n",
       "      <td>1846201.0</td>\n",
       "      <td>Connectum</td>\n",
       "      <td>54.564665</td>\n",
       "      <td>3.088360</td>\n",
       "    </tr>\n",
       "    <tr>\n",
       "      <th>3510469</th>\n",
       "      <td>1368275</td>\n",
       "      <td>50e6f6cdc383befa27af2c890bedbebd3f6e10908e4952...</td>\n",
       "      <td>2022-01-15 00:48:00</td>\n",
       "      <td>2022-01-15 00:51:00</td>\n",
       "      <td>1</td>\n",
       "      <td>21.0</td>\n",
       "      <td>deposit</td>\n",
       "      <td>999</td>\n",
       "      <td>1846205.0</td>\n",
       "      <td>Connectum</td>\n",
       "      <td>1.030000</td>\n",
       "      <td>0.030000</td>\n",
       "    </tr>\n",
       "    <tr>\n",
       "      <th>3510470</th>\n",
       "      <td>1282331</td>\n",
       "      <td>1afadf4327755313911a3da241e13b14429ec84ad13fd2...</td>\n",
       "      <td>2022-01-15 00:50:00</td>\n",
       "      <td>2022-01-15 00:50:00</td>\n",
       "      <td>2</td>\n",
       "      <td>21.0</td>\n",
       "      <td>deposit</td>\n",
       "      <td>299</td>\n",
       "      <td>NaN</td>\n",
       "      <td>TransactPro</td>\n",
       "      <td>228.580000</td>\n",
       "      <td>5.580000</td>\n",
       "    </tr>\n",
       "  </tbody>\n",
       "</table>\n",
       "</div>"
      ],
      "text/plain": [
       "                account_number  \\\n",
       "transaction_id                   \n",
       "3510436                1348079   \n",
       "3510437                1348079   \n",
       "3510438                1352538   \n",
       "3510439                1324132   \n",
       "3510441                1352538   \n",
       "3510442                1334395   \n",
       "3510447                1368099   \n",
       "3510462                1366821   \n",
       "3510469                1368275   \n",
       "3510470                1282331   \n",
       "\n",
       "                                                          card_id  \\\n",
       "transaction_id                                                      \n",
       "3510436                                                       NaN   \n",
       "3510437                                                       NaN   \n",
       "3510438         e426dcb8cefd379e4e112aa8a7bc128a593a5e373829aa...   \n",
       "3510439         08ab089275ad53f0c88bb962ecf49494188d93e3524cb3...   \n",
       "3510441         e426dcb8cefd379e4e112aa8a7bc128a593a5e373829aa...   \n",
       "3510442         a70738de771bf54b217f6736c728920f09d847e45e9b32...   \n",
       "3510447         ff99628b3900b83d5e496bbfada92a64c121613dd08734...   \n",
       "3510462         ebdfc6799fd8ed2fb5209de4b46223536af2d588efb151...   \n",
       "3510469         50e6f6cdc383befa27af2c890bedbebd3f6e10908e4952...   \n",
       "3510470         1afadf4327755313911a3da241e13b14429ec84ad13fd2...   \n",
       "\n",
       "                      cr_date_time        up_date_time  status  \\\n",
       "transaction_id                                                   \n",
       "3510436        2022-01-15 00:02:00 2022-01-15 00:02:00       2   \n",
       "3510437        2022-01-15 00:02:00 2022-01-15 00:02:00       2   \n",
       "3510438        2022-01-15 00:02:00 2022-01-15 00:03:00       2   \n",
       "3510439        2022-01-15 00:02:00 2022-01-15 00:02:00       2   \n",
       "3510441        2022-01-15 00:05:00 2022-01-15 00:05:00       2   \n",
       "3510442        2022-01-15 00:05:00 2022-01-15 00:05:00       1   \n",
       "3510447        2022-01-15 00:15:00 2022-01-15 00:16:00       1   \n",
       "3510462        2022-01-15 00:40:00 2022-01-15 00:40:00       1   \n",
       "3510469        2022-01-15 00:48:00 2022-01-15 00:51:00       1   \n",
       "3510470        2022-01-15 00:50:00 2022-01-15 00:50:00       2   \n",
       "\n",
       "                sub_account_type_id action_type  execution_code_id  \\\n",
       "transaction_id                                                       \n",
       "3510436                        21.0     deposit               1103   \n",
       "3510437                        21.0     deposit               1103   \n",
       "3510438                        21.0     deposit               1102   \n",
       "3510439                        21.0     deposit               1103   \n",
       "3510441                        21.0     deposit               1102   \n",
       "3510442                        21.0  withdrawal                999   \n",
       "3510447                        22.0     deposit                  0   \n",
       "3510462                        21.0  withdrawal                  0   \n",
       "3510469                        21.0     deposit                999   \n",
       "3510470                        21.0     deposit                299   \n",
       "\n",
       "                workflow_id service_provider_name  amount_in_usd  \\\n",
       "transaction_id                                                     \n",
       "3510436                 NaN             Connectum       1.030000   \n",
       "3510437                 NaN             Connectum       1.030000   \n",
       "3510438                 NaN             Connectum      98.605474   \n",
       "3510439                 NaN             Connectum      23.199957   \n",
       "3510441                 NaN             Connectum      99.430000   \n",
       "3510442           1846197.0           TransactPro       3.395116   \n",
       "3510447           1846198.0           TransactPro     500.000000   \n",
       "3510462           1846201.0             Connectum      54.564665   \n",
       "3510469           1846205.0             Connectum       1.030000   \n",
       "3510470                 NaN           TransactPro     228.580000   \n",
       "\n",
       "                commission_in_usd  \n",
       "transaction_id                     \n",
       "3510436                  0.030000  \n",
       "3510437                  0.030000  \n",
       "3510438                  2.410532  \n",
       "3510439                  0.565853  \n",
       "3510441                  2.430000  \n",
       "3510442                  1.788094  \n",
       "3510447                  7.390000  \n",
       "3510462                  3.088360  \n",
       "3510469                  0.030000  \n",
       "3510470                  5.580000  "
      ]
     },
     "execution_count": 741,
     "metadata": {},
     "output_type": "execute_result"
    }
   ],
   "source": [
    "df['amount_in_usd'] = np.zeros(len(df))\n",
    "df['commission_in_usd'] = np.zeros(len(df))\n",
    "\n",
    "for cur in CURRENCIES_IN_USD.keys():\n",
    "    df['amount_in_usd'] += (df['currency'] == cur) * CURRENCIES_IN_USD[cur] * df['amount']\n",
    "    df['commission_in_usd'] += (df['currency'] == cur) * CURRENCIES_IN_USD[cur] * df['commission']\n",
    "\n",
    "df = df.drop(columns=[\"amount\", \"commission\", \"currency\"])\n",
    "df.head(10)"
   ]
  },
  {
   "cell_type": "code",
   "execution_count": null,
   "id": "17a66206",
   "metadata": {},
   "outputs": [],
   "source": []
  },
  {
   "cell_type": "code",
   "execution_count": 742,
   "id": "81b63ef7",
   "metadata": {
    "scrolled": true
   },
   "outputs": [
    {
     "name": "stdout",
     "output_type": "stream",
     "text": [
      "\u001b[4mNUMBER OF NULL VALUES PER COLUMN:\u001b[0m\n"
     ]
    },
    {
     "data": {
      "image/png": "[encoded data removed]",
      "text/plain": [
       "<Figure size 432x288 with 1 Axes>"
      ]
     },
     "metadata": {
      "needs_background": "light"
     },
     "output_type": "display_data"
    },
    {
     "name": "stdout",
     "output_type": "stream",
     "text": [
      "account_number               0\n",
      "card_id                   4765\n",
      "cr_date_time                 0\n",
      "up_date_time                 0\n",
      "status                       0\n",
      "sub_account_type_id       9567\n",
      "action_type                  0\n",
      "execution_code_id            0\n",
      "workflow_id              23905\n",
      "service_provider_name        0\n",
      "amount_in_usd             3466\n",
      "commission_in_usd         9569\n",
      "dtype: int64\n"
     ]
    }
   ],
   "source": [
    "print(\"\\033[4mNUMBER OF NULL VALUES PER COLUMN:\\033[0m\")\n",
    "\n",
    "sns.heatmap(df.isnull(),cbar=False,cmap='viridis')\n",
    "plt.show()\n",
    "print(df.isnull().sum())\n",
    "cols_with_nan = df.columns[df.isna().any()].tolist()\n"
   ]
  },
  {
   "cell_type": "code",
   "execution_count": null,
   "id": "7889da68",
   "metadata": {},
   "outputs": [],
   "source": []
  },
  {
   "cell_type": "markdown",
   "id": "bb3fab06",
   "metadata": {},
   "source": [
    "### <a class=\"anchor\" id=\"1.5_bullet\" style=\"color:orange\"> Dropping useless feature *workflow_id*</a>\n",
    "---\n"
   ]
  },
  {
   "cell_type": "code",
   "execution_count": 743,
   "id": "7b1cb446",
   "metadata": {},
   "outputs": [],
   "source": [
    "df = df.drop(columns=[\"workflow_id\"])"
   ]
  },
  {
   "cell_type": "code",
   "execution_count": null,
   "id": "65df8830",
   "metadata": {},
   "outputs": [],
   "source": []
  },
  {
   "cell_type": "code",
   "execution_count": null,
   "id": "a06a93ee",
   "metadata": {},
   "outputs": [],
   "source": []
  },
  {
   "cell_type": "markdown",
   "id": "f788dfec",
   "metadata": {},
   "source": [
    "# <a class=\"anchor\" id=\"1.5_bullet\" style=\"color:#b20999\"> **FEATURE ENGINEERING** </a>\n",
    "---\n"
   ]
  },
  {
   "cell_type": "code",
   "execution_count": null,
   "id": "f66e7c8c",
   "metadata": {},
   "outputs": [],
   "source": []
  },
  {
   "cell_type": "markdown",
   "id": "c4703260",
   "metadata": {},
   "source": [
    "## Lets split our dataframe into smaller datasets by **action type**"
   ]
  },
  {
   "cell_type": "code",
   "execution_count": 744,
   "id": "e9e6f62c",
   "metadata": {},
   "outputs": [],
   "source": [
    "def add_feature_per_account_number(df, new_feature_df):\n",
    "    df = df.merge(new_feature_df,\n",
    "             on=\"account_number\", how=\"left\")\n",
    "    df[df.columns[-1]].fillna(0, inplace=True)\n",
    "    return df\n",
    "    "
   ]
  },
  {
   "cell_type": "code",
   "execution_count": null,
   "id": "fc735699",
   "metadata": {},
   "outputs": [],
   "source": []
  },
  {
   "cell_type": "markdown",
   "id": "360f081e",
   "metadata": {},
   "source": [
    "\n",
    "## <a class=\"anchor\" id=\"1.5_bullet\" style=\"color:#b14404\"> Deposits </a>\n",
    "---"
   ]
  },
  {
   "cell_type": "markdown",
   "id": "8b6d1ff7",
   "metadata": {},
   "source": [
    "#####  **status:**\n",
    "- 1 - SUCCESSFULLY_COMPLETED - на стороне банка-эмитента и процессинг-партнера транзакция прошла успешно\n",
    "\n",
    "- 2 - COMPLETED_WITH_ERRORS - банк-эмитент или процессинг-партнер отказал в транзакции\n",
    "\n",
    "- 4 - OUTDATED - от процессинг-партнера не был получен ответ по статусу транзакции, считаем транзакцию не успешной"
   ]
  },
  {
   "cell_type": "code",
   "execution_count": 745,
   "id": "e01177fc",
   "metadata": {},
   "outputs": [],
   "source": [
    "df_deposits = df[(df.action_type == \"deposit\") | (df.action_type == \"3rd_party_deposit\")]\n"
   ]
  },
  {
   "cell_type": "code",
   "execution_count": 746,
   "id": "b16775e5",
   "metadata": {},
   "outputs": [
    {
     "data": {
      "text/plain": [
       "<AxesSubplot:xlabel='Count', ylabel='action_type'>"
      ]
     },
     "execution_count": 746,
     "metadata": {},
     "output_type": "execute_result"
    },
    {
     "data": {
      "image/png": "[encoded data removed]",
      "text/plain": [
       "<Figure size 432x288 with 1 Axes>"
      ]
     },
     "metadata": {
      "needs_background": "light"
     },
     "output_type": "display_data"
    }
   ],
   "source": [
    "sns.histplot(data=df_deposits, y=\"action_type\", hue=\"status\", palette=\"magma\", multiple=\"stack\")"
   ]
  },
  {
   "cell_type": "code",
   "execution_count": 747,
   "id": "89a6a403",
   "metadata": {
    "scrolled": true
   },
   "outputs": [
    {
     "name": "stdout",
     "output_type": "stream",
     "text": [
      "account_number              0\n",
      "card_id                  4765\n",
      "cr_date_time                0\n",
      "up_date_time                0\n",
      "status                      0\n",
      "sub_account_type_id         0\n",
      "action_type                 0\n",
      "execution_code_id           0\n",
      "service_provider_name       0\n",
      "amount_in_usd               0\n",
      "commission_in_usd           2\n",
      "dtype: int64\n"
     ]
    }
   ],
   "source": [
    "print(df_deposits.isnull().sum())"
   ]
  },
  {
   "cell_type": "code",
   "execution_count": null,
   "id": "f9cb3fd9",
   "metadata": {},
   "outputs": [],
   "source": []
  },
  {
   "cell_type": "markdown",
   "id": "14b58019",
   "metadata": {},
   "source": [
    "### <a class=\"anchor\" id=\"1.5_bullet\" style=\"color:orange\"> Dealing with NaN's in *commissions* </a>\n",
    "---\n"
   ]
  },
  {
   "cell_type": "code",
   "execution_count": 748,
   "id": "c226d8ee",
   "metadata": {},
   "outputs": [
    {
     "data": {
      "text/html": [
       "<div>\n",
       "<style scoped>\n",
       "    .dataframe tbody tr th:only-of-type {\n",
       "        vertical-align: middle;\n",
       "    }\n",
       "\n",
       "    .dataframe tbody tr th {\n",
       "        vertical-align: top;\n",
       "    }\n",
       "\n",
       "    .dataframe thead th {\n",
       "        text-align: right;\n",
       "    }\n",
       "</style>\n",
       "<table border=\"1\" class=\"dataframe\">\n",
       "  <thead>\n",
       "    <tr style=\"text-align: right;\">\n",
       "      <th></th>\n",
       "      <th>account_number</th>\n",
       "      <th>card_id</th>\n",
       "      <th>cr_date_time</th>\n",
       "      <th>up_date_time</th>\n",
       "      <th>status</th>\n",
       "      <th>sub_account_type_id</th>\n",
       "      <th>action_type</th>\n",
       "      <th>execution_code_id</th>\n",
       "      <th>service_provider_name</th>\n",
       "      <th>amount_in_usd</th>\n",
       "      <th>commission_in_usd</th>\n",
       "    </tr>\n",
       "    <tr>\n",
       "      <th>transaction_id</th>\n",
       "      <th></th>\n",
       "      <th></th>\n",
       "      <th></th>\n",
       "      <th></th>\n",
       "      <th></th>\n",
       "      <th></th>\n",
       "      <th></th>\n",
       "      <th></th>\n",
       "      <th></th>\n",
       "      <th></th>\n",
       "      <th></th>\n",
       "    </tr>\n",
       "  </thead>\n",
       "  <tbody>\n",
       "    <tr>\n",
       "      <th>3528292</th>\n",
       "      <td>1369692</td>\n",
       "      <td>NaN</td>\n",
       "      <td>2022-01-21 20:16:00</td>\n",
       "      <td>2022-01-21 20:16:00</td>\n",
       "      <td>2</td>\n",
       "      <td>21.0</td>\n",
       "      <td>deposit</td>\n",
       "      <td>1106</td>\n",
       "      <td>Connectum</td>\n",
       "      <td>6.258330e+14</td>\n",
       "      <td>NaN</td>\n",
       "    </tr>\n",
       "    <tr>\n",
       "      <th>3656388</th>\n",
       "      <td>1351861</td>\n",
       "      <td>NaN</td>\n",
       "      <td>2022-02-15 01:54:00</td>\n",
       "      <td>2022-02-15 01:54:00</td>\n",
       "      <td>2</td>\n",
       "      <td>21.0</td>\n",
       "      <td>deposit</td>\n",
       "      <td>1106</td>\n",
       "      <td>Connectum</td>\n",
       "      <td>1.810728e+14</td>\n",
       "      <td>NaN</td>\n",
       "    </tr>\n",
       "  </tbody>\n",
       "</table>\n",
       "</div>"
      ],
      "text/plain": [
       "                account_number card_id        cr_date_time  \\\n",
       "transaction_id                                               \n",
       "3528292                1369692     NaN 2022-01-21 20:16:00   \n",
       "3656388                1351861     NaN 2022-02-15 01:54:00   \n",
       "\n",
       "                      up_date_time  status  sub_account_type_id action_type  \\\n",
       "transaction_id                                                                \n",
       "3528292        2022-01-21 20:16:00       2                 21.0     deposit   \n",
       "3656388        2022-02-15 01:54:00       2                 21.0     deposit   \n",
       "\n",
       "                execution_code_id service_provider_name  amount_in_usd  \\\n",
       "transaction_id                                                           \n",
       "3528292                      1106             Connectum   6.258330e+14   \n",
       "3656388                      1106             Connectum   1.810728e+14   \n",
       "\n",
       "                commission_in_usd  \n",
       "transaction_id                     \n",
       "3528292                       NaN  \n",
       "3656388                       NaN  "
      ]
     },
     "execution_count": 748,
     "metadata": {},
     "output_type": "execute_result"
    }
   ],
   "source": [
    "df_deposits[df_deposits.commission_in_usd.isnull()]"
   ]
  },
  {
   "cell_type": "code",
   "execution_count": 749,
   "id": "da0d9c75",
   "metadata": {},
   "outputs": [],
   "source": [
    "commission_percentage = (df_deposits.commission_in_usd / df_deposits.amount_in_usd).mean()"
   ]
  },
  {
   "cell_type": "code",
   "execution_count": 750,
   "id": "0af8ff1c",
   "metadata": {},
   "outputs": [
    {
     "data": {
      "text/plain": [
       "0.02434122103665446"
      ]
     },
     "execution_count": 750,
     "metadata": {},
     "output_type": "execute_result"
    }
   ],
   "source": [
    "commission_percentage"
   ]
  },
  {
   "cell_type": "code",
   "execution_count": 751,
   "id": "2f6f0074",
   "metadata": {},
   "outputs": [],
   "source": [
    "temp = df_deposits.loc[[3528292, 3656388],:][\"amount_in_usd\"] * commission_percentage"
   ]
  },
  {
   "cell_type": "code",
   "execution_count": 752,
   "id": "fc4c372d",
   "metadata": {},
   "outputs": [
    {
     "data": {
      "text/plain": [
       "transaction_id\n",
       "3528292    1.523354e+13\n",
       "3656388    4.407534e+12\n",
       "Name: amount_in_usd, dtype: float64"
      ]
     },
     "execution_count": 752,
     "metadata": {},
     "output_type": "execute_result"
    }
   ],
   "source": [
    "temp"
   ]
  },
  {
   "cell_type": "code",
   "execution_count": 753,
   "id": "4101fe4c",
   "metadata": {},
   "outputs": [
    {
     "name": "stderr",
     "output_type": "stream",
     "text": [
      "C:\\Users\\DELL\\anaconda3\\lib\\site-packages\\pandas\\core\\generic.py:6392: SettingWithCopyWarning: \n",
      "A value is trying to be set on a copy of a slice from a DataFrame\n",
      "\n",
      "See the caveats in the documentation: https://pandas.pydata.org/pandas-docs/stable/user_guide/indexing.html#returning-a-view-versus-a-copy\n",
      "  return self._update_inplace(result)\n"
     ]
    }
   ],
   "source": [
    "df_deposits[\"commission_in_usd\"].fillna(temp, inplace=True)"
   ]
  },
  {
   "cell_type": "code",
   "execution_count": 754,
   "id": "90deff34",
   "metadata": {
    "scrolled": false
   },
   "outputs": [
    {
     "data": {
      "text/html": [
       "<div>\n",
       "<style scoped>\n",
       "    .dataframe tbody tr th:only-of-type {\n",
       "        vertical-align: middle;\n",
       "    }\n",
       "\n",
       "    .dataframe tbody tr th {\n",
       "        vertical-align: top;\n",
       "    }\n",
       "\n",
       "    .dataframe thead th {\n",
       "        text-align: right;\n",
       "    }\n",
       "</style>\n",
       "<table border=\"1\" class=\"dataframe\">\n",
       "  <thead>\n",
       "    <tr style=\"text-align: right;\">\n",
       "      <th></th>\n",
       "      <th>account_number</th>\n",
       "      <th>card_id</th>\n",
       "      <th>cr_date_time</th>\n",
       "      <th>up_date_time</th>\n",
       "      <th>status</th>\n",
       "      <th>sub_account_type_id</th>\n",
       "      <th>action_type</th>\n",
       "      <th>execution_code_id</th>\n",
       "      <th>service_provider_name</th>\n",
       "      <th>amount_in_usd</th>\n",
       "      <th>commission_in_usd</th>\n",
       "    </tr>\n",
       "    <tr>\n",
       "      <th>transaction_id</th>\n",
       "      <th></th>\n",
       "      <th></th>\n",
       "      <th></th>\n",
       "      <th></th>\n",
       "      <th></th>\n",
       "      <th></th>\n",
       "      <th></th>\n",
       "      <th></th>\n",
       "      <th></th>\n",
       "      <th></th>\n",
       "      <th></th>\n",
       "    </tr>\n",
       "  </thead>\n",
       "  <tbody>\n",
       "    <tr>\n",
       "      <th>3510436</th>\n",
       "      <td>1348079</td>\n",
       "      <td>NaN</td>\n",
       "      <td>2022-01-15 00:02:00</td>\n",
       "      <td>2022-01-15 00:02:00</td>\n",
       "      <td>2</td>\n",
       "      <td>21.0</td>\n",
       "      <td>deposit</td>\n",
       "      <td>1103</td>\n",
       "      <td>Connectum</td>\n",
       "      <td>1.030000</td>\n",
       "      <td>0.030000</td>\n",
       "    </tr>\n",
       "    <tr>\n",
       "      <th>3510437</th>\n",
       "      <td>1348079</td>\n",
       "      <td>NaN</td>\n",
       "      <td>2022-01-15 00:02:00</td>\n",
       "      <td>2022-01-15 00:02:00</td>\n",
       "      <td>2</td>\n",
       "      <td>21.0</td>\n",
       "      <td>deposit</td>\n",
       "      <td>1103</td>\n",
       "      <td>Connectum</td>\n",
       "      <td>1.030000</td>\n",
       "      <td>0.030000</td>\n",
       "    </tr>\n",
       "    <tr>\n",
       "      <th>3510501</th>\n",
       "      <td>1351973</td>\n",
       "      <td>NaN</td>\n",
       "      <td>2022-01-15 01:37:00</td>\n",
       "      <td>2022-01-15 01:37:00</td>\n",
       "      <td>2</td>\n",
       "      <td>21.0</td>\n",
       "      <td>deposit</td>\n",
       "      <td>1103</td>\n",
       "      <td>Connectum</td>\n",
       "      <td>1.165656</td>\n",
       "      <td>0.033951</td>\n",
       "    </tr>\n",
       "    <tr>\n",
       "      <th>3510503</th>\n",
       "      <td>1351973</td>\n",
       "      <td>NaN</td>\n",
       "      <td>2022-01-15 01:37:00</td>\n",
       "      <td>2022-01-15 01:37:00</td>\n",
       "      <td>2</td>\n",
       "      <td>21.0</td>\n",
       "      <td>deposit</td>\n",
       "      <td>1103</td>\n",
       "      <td>Connectum</td>\n",
       "      <td>1.165656</td>\n",
       "      <td>0.033951</td>\n",
       "    </tr>\n",
       "    <tr>\n",
       "      <th>3510508</th>\n",
       "      <td>1351973</td>\n",
       "      <td>NaN</td>\n",
       "      <td>2022-01-15 01:38:00</td>\n",
       "      <td>2022-01-15 01:39:00</td>\n",
       "      <td>2</td>\n",
       "      <td>21.0</td>\n",
       "      <td>deposit</td>\n",
       "      <td>1103</td>\n",
       "      <td>Connectum</td>\n",
       "      <td>1.165656</td>\n",
       "      <td>0.033951</td>\n",
       "    </tr>\n",
       "    <tr>\n",
       "      <th>...</th>\n",
       "      <td>...</td>\n",
       "      <td>...</td>\n",
       "      <td>...</td>\n",
       "      <td>...</td>\n",
       "      <td>...</td>\n",
       "      <td>...</td>\n",
       "      <td>...</td>\n",
       "      <td>...</td>\n",
       "      <td>...</td>\n",
       "      <td>...</td>\n",
       "      <td>...</td>\n",
       "    </tr>\n",
       "    <tr>\n",
       "      <th>3656621</th>\n",
       "      <td>1341114</td>\n",
       "      <td>NaN</td>\n",
       "      <td>2022-02-15 06:31:00</td>\n",
       "      <td>2022-02-15 06:31:00</td>\n",
       "      <td>2</td>\n",
       "      <td>21.0</td>\n",
       "      <td>deposit</td>\n",
       "      <td>1103</td>\n",
       "      <td>Connectum</td>\n",
       "      <td>87.424227</td>\n",
       "      <td>2.546337</td>\n",
       "    </tr>\n",
       "    <tr>\n",
       "      <th>3656624</th>\n",
       "      <td>1345776</td>\n",
       "      <td>NaN</td>\n",
       "      <td>2022-02-15 06:37:00</td>\n",
       "      <td>2022-02-15 06:37:00</td>\n",
       "      <td>2</td>\n",
       "      <td>21.0</td>\n",
       "      <td>deposit</td>\n",
       "      <td>1103</td>\n",
       "      <td>Connectum</td>\n",
       "      <td>95.583821</td>\n",
       "      <td>2.783995</td>\n",
       "    </tr>\n",
       "    <tr>\n",
       "      <th>3656625</th>\n",
       "      <td>1345776</td>\n",
       "      <td>NaN</td>\n",
       "      <td>2022-02-15 06:37:00</td>\n",
       "      <td>2022-02-15 06:37:00</td>\n",
       "      <td>2</td>\n",
       "      <td>21.0</td>\n",
       "      <td>deposit</td>\n",
       "      <td>1103</td>\n",
       "      <td>Connectum</td>\n",
       "      <td>95.583821</td>\n",
       "      <td>2.783995</td>\n",
       "    </tr>\n",
       "    <tr>\n",
       "      <th>3656628</th>\n",
       "      <td>1345776</td>\n",
       "      <td>NaN</td>\n",
       "      <td>2022-02-15 06:37:00</td>\n",
       "      <td>2022-02-15 06:37:00</td>\n",
       "      <td>2</td>\n",
       "      <td>21.0</td>\n",
       "      <td>deposit</td>\n",
       "      <td>1103</td>\n",
       "      <td>Connectum</td>\n",
       "      <td>95.583821</td>\n",
       "      <td>2.783995</td>\n",
       "    </tr>\n",
       "    <tr>\n",
       "      <th>3656629</th>\n",
       "      <td>1364069</td>\n",
       "      <td>NaN</td>\n",
       "      <td>2022-02-15 06:38:00</td>\n",
       "      <td>2022-02-15 06:38:00</td>\n",
       "      <td>2</td>\n",
       "      <td>21.0</td>\n",
       "      <td>deposit</td>\n",
       "      <td>1103</td>\n",
       "      <td>Connectum</td>\n",
       "      <td>97.380000</td>\n",
       "      <td>2.380000</td>\n",
       "    </tr>\n",
       "  </tbody>\n",
       "</table>\n",
       "<p>4765 rows × 11 columns</p>\n",
       "</div>"
      ],
      "text/plain": [
       "                account_number card_id        cr_date_time  \\\n",
       "transaction_id                                               \n",
       "3510436                1348079     NaN 2022-01-15 00:02:00   \n",
       "3510437                1348079     NaN 2022-01-15 00:02:00   \n",
       "3510501                1351973     NaN 2022-01-15 01:37:00   \n",
       "3510503                1351973     NaN 2022-01-15 01:37:00   \n",
       "3510508                1351973     NaN 2022-01-15 01:38:00   \n",
       "...                        ...     ...                 ...   \n",
       "3656621                1341114     NaN 2022-02-15 06:31:00   \n",
       "3656624                1345776     NaN 2022-02-15 06:37:00   \n",
       "3656625                1345776     NaN 2022-02-15 06:37:00   \n",
       "3656628                1345776     NaN 2022-02-15 06:37:00   \n",
       "3656629                1364069     NaN 2022-02-15 06:38:00   \n",
       "\n",
       "                      up_date_time  status  sub_account_type_id action_type  \\\n",
       "transaction_id                                                                \n",
       "3510436        2022-01-15 00:02:00       2                 21.0     deposit   \n",
       "3510437        2022-01-15 00:02:00       2                 21.0     deposit   \n",
       "3510501        2022-01-15 01:37:00       2                 21.0     deposit   \n",
       "3510503        2022-01-15 01:37:00       2                 21.0     deposit   \n",
       "3510508        2022-01-15 01:39:00       2                 21.0     deposit   \n",
       "...                            ...     ...                  ...         ...   \n",
       "3656621        2022-02-15 06:31:00       2                 21.0     deposit   \n",
       "3656624        2022-02-15 06:37:00       2                 21.0     deposit   \n",
       "3656625        2022-02-15 06:37:00       2                 21.0     deposit   \n",
       "3656628        2022-02-15 06:37:00       2                 21.0     deposit   \n",
       "3656629        2022-02-15 06:38:00       2                 21.0     deposit   \n",
       "\n",
       "                execution_code_id service_provider_name  amount_in_usd  \\\n",
       "transaction_id                                                           \n",
       "3510436                      1103             Connectum       1.030000   \n",
       "3510437                      1103             Connectum       1.030000   \n",
       "3510501                      1103             Connectum       1.165656   \n",
       "3510503                      1103             Connectum       1.165656   \n",
       "3510508                      1103             Connectum       1.165656   \n",
       "...                           ...                   ...            ...   \n",
       "3656621                      1103             Connectum      87.424227   \n",
       "3656624                      1103             Connectum      95.583821   \n",
       "3656625                      1103             Connectum      95.583821   \n",
       "3656628                      1103             Connectum      95.583821   \n",
       "3656629                      1103             Connectum      97.380000   \n",
       "\n",
       "                commission_in_usd  \n",
       "transaction_id                     \n",
       "3510436                  0.030000  \n",
       "3510437                  0.030000  \n",
       "3510501                  0.033951  \n",
       "3510503                  0.033951  \n",
       "3510508                  0.033951  \n",
       "...                           ...  \n",
       "3656621                  2.546337  \n",
       "3656624                  2.783995  \n",
       "3656625                  2.783995  \n",
       "3656628                  2.783995  \n",
       "3656629                  2.380000  \n",
       "\n",
       "[4765 rows x 11 columns]"
      ]
     },
     "execution_count": 754,
     "metadata": {},
     "output_type": "execute_result"
    }
   ],
   "source": [
    "df_deposits[df_deposits.card_id.isnull()]"
   ]
  },
  {
   "cell_type": "code",
   "execution_count": null,
   "id": "b33ef456",
   "metadata": {},
   "outputs": [],
   "source": []
  },
  {
   "cell_type": "markdown",
   "id": "36b00209",
   "metadata": {},
   "source": [
    "### <a class=\"anchor\" id=\"1.5_bullet\" style=\"color:orange\"> Adding new feature:\n",
    "- number of deposites for each account</a>\n",
    "---\n"
   ]
  },
  {
   "cell_type": "code",
   "execution_count": 755,
   "id": "37bad1d6",
   "metadata": {},
   "outputs": [
    {
     "data": {
      "text/html": [
       "<div>\n",
       "<style scoped>\n",
       "    .dataframe tbody tr th:only-of-type {\n",
       "        vertical-align: middle;\n",
       "    }\n",
       "\n",
       "    .dataframe tbody tr th {\n",
       "        vertical-align: top;\n",
       "    }\n",
       "\n",
       "    .dataframe thead th {\n",
       "        text-align: right;\n",
       "    }\n",
       "</style>\n",
       "<table border=\"1\" class=\"dataframe\">\n",
       "  <thead>\n",
       "    <tr style=\"text-align: right;\">\n",
       "      <th></th>\n",
       "      <th>account_number</th>\n",
       "      <th>deposits_per_acc</th>\n",
       "    </tr>\n",
       "  </thead>\n",
       "  <tbody>\n",
       "    <tr>\n",
       "      <th>0</th>\n",
       "      <td>1000024</td>\n",
       "      <td>2</td>\n",
       "    </tr>\n",
       "    <tr>\n",
       "      <th>1</th>\n",
       "      <td>1000713</td>\n",
       "      <td>5</td>\n",
       "    </tr>\n",
       "  </tbody>\n",
       "</table>\n",
       "</div>"
      ],
      "text/plain": [
       "   account_number  deposits_per_acc\n",
       "0         1000024                 2\n",
       "1         1000713                 5"
      ]
     },
     "execution_count": 755,
     "metadata": {},
     "output_type": "execute_result"
    }
   ],
   "source": [
    "deposits_per_acc = df_deposits[[\"action_type\", \"account_number\"]]\\\n",
    "                .groupby(\"account_number\").count()\\\n",
    "                .rename(columns={\"action_type\": \"deposits_per_acc\"}).reset_index()\n",
    "deposits_per_acc.head(2)"
   ]
  },
  {
   "cell_type": "code",
   "execution_count": 756,
   "id": "c3e20e82",
   "metadata": {},
   "outputs": [],
   "source": [
    "df = add_feature_by_account_number(df, deposits_per_acc)"
   ]
  },
  {
   "cell_type": "code",
   "execution_count": null,
   "id": "dfd6083e",
   "metadata": {},
   "outputs": [],
   "source": []
  },
  {
   "cell_type": "markdown",
   "id": "e0436872",
   "metadata": {},
   "source": [
    "### <a class=\"anchor\" id=\"1.5_bullet\" style=\"color:orange\"> Adding new feature:\n",
    "- overall amount (sum) of deposites for each account </a>\n",
    "---\n"
   ]
  },
  {
   "cell_type": "code",
   "execution_count": 757,
   "id": "eed42781",
   "metadata": {},
   "outputs": [],
   "source": [
    "amount_of_deposits_per_acc = df_deposits[[\"amount_in_usd\", \"account_number\"]]\\\n",
    "                .groupby(\"account_number\").sum()\\\n",
    "                .rename(columns={\"amount_in_usd\": \"amount_of_deposits_per_acc\"}).reset_index()"
   ]
  },
  {
   "cell_type": "code",
   "execution_count": 758,
   "id": "742881b3",
   "metadata": {},
   "outputs": [],
   "source": [
    "df = add_feature_by_account_number(df, amount_of_deposits_per_acc)"
   ]
  },
  {
   "cell_type": "code",
   "execution_count": 759,
   "id": "82b0c61e",
   "metadata": {
    "scrolled": true
   },
   "outputs": [
    {
     "data": {
      "text/html": [
       "<div>\n",
       "<style scoped>\n",
       "    .dataframe tbody tr th:only-of-type {\n",
       "        vertical-align: middle;\n",
       "    }\n",
       "\n",
       "    .dataframe tbody tr th {\n",
       "        vertical-align: top;\n",
       "    }\n",
       "\n",
       "    .dataframe thead th {\n",
       "        text-align: right;\n",
       "    }\n",
       "</style>\n",
       "<table border=\"1\" class=\"dataframe\">\n",
       "  <thead>\n",
       "    <tr style=\"text-align: right;\">\n",
       "      <th></th>\n",
       "      <th>account_number</th>\n",
       "      <th>card_id</th>\n",
       "      <th>cr_date_time</th>\n",
       "      <th>up_date_time</th>\n",
       "      <th>status</th>\n",
       "      <th>sub_account_type_id</th>\n",
       "      <th>action_type</th>\n",
       "      <th>execution_code_id</th>\n",
       "      <th>service_provider_name</th>\n",
       "      <th>amount_in_usd</th>\n",
       "      <th>commission_in_usd</th>\n",
       "      <th>deposits_per_acc</th>\n",
       "      <th>amount_of_deposits_per_acc</th>\n",
       "    </tr>\n",
       "  </thead>\n",
       "  <tbody>\n",
       "    <tr>\n",
       "      <th>0</th>\n",
       "      <td>1348079</td>\n",
       "      <td>NaN</td>\n",
       "      <td>2022-01-15 00:02:00</td>\n",
       "      <td>2022-01-15 00:02:00</td>\n",
       "      <td>2</td>\n",
       "      <td>21.0</td>\n",
       "      <td>deposit</td>\n",
       "      <td>1103</td>\n",
       "      <td>Connectum</td>\n",
       "      <td>1.030000</td>\n",
       "      <td>0.030000</td>\n",
       "      <td>23.0</td>\n",
       "      <td>596.479195</td>\n",
       "    </tr>\n",
       "    <tr>\n",
       "      <th>1</th>\n",
       "      <td>1348079</td>\n",
       "      <td>NaN</td>\n",
       "      <td>2022-01-15 00:02:00</td>\n",
       "      <td>2022-01-15 00:02:00</td>\n",
       "      <td>2</td>\n",
       "      <td>21.0</td>\n",
       "      <td>deposit</td>\n",
       "      <td>1103</td>\n",
       "      <td>Connectum</td>\n",
       "      <td>1.030000</td>\n",
       "      <td>0.030000</td>\n",
       "      <td>23.0</td>\n",
       "      <td>596.479195</td>\n",
       "    </tr>\n",
       "    <tr>\n",
       "      <th>2</th>\n",
       "      <td>1352538</td>\n",
       "      <td>e426dcb8cefd379e4e112aa8a7bc128a593a5e373829aa...</td>\n",
       "      <td>2022-01-15 00:02:00</td>\n",
       "      <td>2022-01-15 00:03:00</td>\n",
       "      <td>2</td>\n",
       "      <td>21.0</td>\n",
       "      <td>deposit</td>\n",
       "      <td>1102</td>\n",
       "      <td>Connectum</td>\n",
       "      <td>98.605474</td>\n",
       "      <td>2.410532</td>\n",
       "      <td>5.0</td>\n",
       "      <td>496.325474</td>\n",
       "    </tr>\n",
       "    <tr>\n",
       "      <th>3</th>\n",
       "      <td>1324132</td>\n",
       "      <td>08ab089275ad53f0c88bb962ecf49494188d93e3524cb3...</td>\n",
       "      <td>2022-01-15 00:02:00</td>\n",
       "      <td>2022-01-15 00:02:00</td>\n",
       "      <td>2</td>\n",
       "      <td>21.0</td>\n",
       "      <td>deposit</td>\n",
       "      <td>1103</td>\n",
       "      <td>Connectum</td>\n",
       "      <td>23.199957</td>\n",
       "      <td>0.565853</td>\n",
       "      <td>7.0</td>\n",
       "      <td>353.804997</td>\n",
       "    </tr>\n",
       "    <tr>\n",
       "      <th>4</th>\n",
       "      <td>1352538</td>\n",
       "      <td>e426dcb8cefd379e4e112aa8a7bc128a593a5e373829aa...</td>\n",
       "      <td>2022-01-15 00:05:00</td>\n",
       "      <td>2022-01-15 00:05:00</td>\n",
       "      <td>2</td>\n",
       "      <td>21.0</td>\n",
       "      <td>deposit</td>\n",
       "      <td>1102</td>\n",
       "      <td>Connectum</td>\n",
       "      <td>99.430000</td>\n",
       "      <td>2.430000</td>\n",
       "      <td>5.0</td>\n",
       "      <td>496.325474</td>\n",
       "    </tr>\n",
       "    <tr>\n",
       "      <th>...</th>\n",
       "      <td>...</td>\n",
       "      <td>...</td>\n",
       "      <td>...</td>\n",
       "      <td>...</td>\n",
       "      <td>...</td>\n",
       "      <td>...</td>\n",
       "      <td>...</td>\n",
       "      <td>...</td>\n",
       "      <td>...</td>\n",
       "      <td>...</td>\n",
       "      <td>...</td>\n",
       "      <td>...</td>\n",
       "      <td>...</td>\n",
       "    </tr>\n",
       "    <tr>\n",
       "      <th>38337</th>\n",
       "      <td>1345776</td>\n",
       "      <td>NaN</td>\n",
       "      <td>2022-02-15 06:37:00</td>\n",
       "      <td>2022-02-15 06:37:00</td>\n",
       "      <td>2</td>\n",
       "      <td>21.0</td>\n",
       "      <td>deposit</td>\n",
       "      <td>1103</td>\n",
       "      <td>Connectum</td>\n",
       "      <td>95.583821</td>\n",
       "      <td>2.783995</td>\n",
       "      <td>50.0</td>\n",
       "      <td>4824.110879</td>\n",
       "    </tr>\n",
       "    <tr>\n",
       "      <th>38338</th>\n",
       "      <td>1345776</td>\n",
       "      <td>NaN</td>\n",
       "      <td>2022-02-15 06:37:00</td>\n",
       "      <td>2022-02-15 06:37:00</td>\n",
       "      <td>2</td>\n",
       "      <td>21.0</td>\n",
       "      <td>deposit</td>\n",
       "      <td>1103</td>\n",
       "      <td>Connectum</td>\n",
       "      <td>95.583821</td>\n",
       "      <td>2.783995</td>\n",
       "      <td>50.0</td>\n",
       "      <td>4824.110879</td>\n",
       "    </tr>\n",
       "    <tr>\n",
       "      <th>38339</th>\n",
       "      <td>1373280</td>\n",
       "      <td>6c92231e41d18abba1c9d107ece2b0e87cf9a0c73c324a...</td>\n",
       "      <td>2022-02-15 06:37:00</td>\n",
       "      <td>2022-02-15 06:38:00</td>\n",
       "      <td>2</td>\n",
       "      <td>21.0</td>\n",
       "      <td>deposit</td>\n",
       "      <td>299</td>\n",
       "      <td>TransactPro</td>\n",
       "      <td>97.380000</td>\n",
       "      <td>2.380000</td>\n",
       "      <td>1.0</td>\n",
       "      <td>97.380000</td>\n",
       "    </tr>\n",
       "    <tr>\n",
       "      <th>38340</th>\n",
       "      <td>1345776</td>\n",
       "      <td>NaN</td>\n",
       "      <td>2022-02-15 06:37:00</td>\n",
       "      <td>2022-02-15 06:37:00</td>\n",
       "      <td>2</td>\n",
       "      <td>21.0</td>\n",
       "      <td>deposit</td>\n",
       "      <td>1103</td>\n",
       "      <td>Connectum</td>\n",
       "      <td>95.583821</td>\n",
       "      <td>2.783995</td>\n",
       "      <td>50.0</td>\n",
       "      <td>4824.110879</td>\n",
       "    </tr>\n",
       "    <tr>\n",
       "      <th>38341</th>\n",
       "      <td>1364069</td>\n",
       "      <td>NaN</td>\n",
       "      <td>2022-02-15 06:38:00</td>\n",
       "      <td>2022-02-15 06:38:00</td>\n",
       "      <td>2</td>\n",
       "      <td>21.0</td>\n",
       "      <td>deposit</td>\n",
       "      <td>1103</td>\n",
       "      <td>Connectum</td>\n",
       "      <td>97.380000</td>\n",
       "      <td>2.380000</td>\n",
       "      <td>54.0</td>\n",
       "      <td>5525.301496</td>\n",
       "    </tr>\n",
       "  </tbody>\n",
       "</table>\n",
       "<p>38342 rows × 13 columns</p>\n",
       "</div>"
      ],
      "text/plain": [
       "       account_number                                            card_id  \\\n",
       "0             1348079                                                NaN   \n",
       "1             1348079                                                NaN   \n",
       "2             1352538  e426dcb8cefd379e4e112aa8a7bc128a593a5e373829aa...   \n",
       "3             1324132  08ab089275ad53f0c88bb962ecf49494188d93e3524cb3...   \n",
       "4             1352538  e426dcb8cefd379e4e112aa8a7bc128a593a5e373829aa...   \n",
       "...               ...                                                ...   \n",
       "38337         1345776                                                NaN   \n",
       "38338         1345776                                                NaN   \n",
       "38339         1373280  6c92231e41d18abba1c9d107ece2b0e87cf9a0c73c324a...   \n",
       "38340         1345776                                                NaN   \n",
       "38341         1364069                                                NaN   \n",
       "\n",
       "             cr_date_time        up_date_time  status  sub_account_type_id  \\\n",
       "0     2022-01-15 00:02:00 2022-01-15 00:02:00       2                 21.0   \n",
       "1     2022-01-15 00:02:00 2022-01-15 00:02:00       2                 21.0   \n",
       "2     2022-01-15 00:02:00 2022-01-15 00:03:00       2                 21.0   \n",
       "3     2022-01-15 00:02:00 2022-01-15 00:02:00       2                 21.0   \n",
       "4     2022-01-15 00:05:00 2022-01-15 00:05:00       2                 21.0   \n",
       "...                   ...                 ...     ...                  ...   \n",
       "38337 2022-02-15 06:37:00 2022-02-15 06:37:00       2                 21.0   \n",
       "38338 2022-02-15 06:37:00 2022-02-15 06:37:00       2                 21.0   \n",
       "38339 2022-02-15 06:37:00 2022-02-15 06:38:00       2                 21.0   \n",
       "38340 2022-02-15 06:37:00 2022-02-15 06:37:00       2                 21.0   \n",
       "38341 2022-02-15 06:38:00 2022-02-15 06:38:00       2                 21.0   \n",
       "\n",
       "      action_type  execution_code_id service_provider_name  amount_in_usd  \\\n",
       "0         deposit               1103             Connectum       1.030000   \n",
       "1         deposit               1103             Connectum       1.030000   \n",
       "2         deposit               1102             Connectum      98.605474   \n",
       "3         deposit               1103             Connectum      23.199957   \n",
       "4         deposit               1102             Connectum      99.430000   \n",
       "...           ...                ...                   ...            ...   \n",
       "38337     deposit               1103             Connectum      95.583821   \n",
       "38338     deposit               1103             Connectum      95.583821   \n",
       "38339     deposit                299           TransactPro      97.380000   \n",
       "38340     deposit               1103             Connectum      95.583821   \n",
       "38341     deposit               1103             Connectum      97.380000   \n",
       "\n",
       "       commission_in_usd  deposits_per_acc  amount_of_deposits_per_acc  \n",
       "0               0.030000              23.0                  596.479195  \n",
       "1               0.030000              23.0                  596.479195  \n",
       "2               2.410532               5.0                  496.325474  \n",
       "3               0.565853               7.0                  353.804997  \n",
       "4               2.430000               5.0                  496.325474  \n",
       "...                  ...               ...                         ...  \n",
       "38337           2.783995              50.0                 4824.110879  \n",
       "38338           2.783995              50.0                 4824.110879  \n",
       "38339           2.380000               1.0                   97.380000  \n",
       "38340           2.783995              50.0                 4824.110879  \n",
       "38341           2.380000              54.0                 5525.301496  \n",
       "\n",
       "[38342 rows x 13 columns]"
      ]
     },
     "execution_count": 759,
     "metadata": {},
     "output_type": "execute_result"
    }
   ],
   "source": [
    "df"
   ]
  },
  {
   "cell_type": "code",
   "execution_count": null,
   "id": "f8cc1400",
   "metadata": {},
   "outputs": [],
   "source": []
  },
  {
   "cell_type": "markdown",
   "id": "76ada79e",
   "metadata": {},
   "source": [
    "\n",
    "## <a class=\"anchor\" id=\"1.5_bullet\" style=\"color:#b14404\"> Withdrawals </a>\n",
    "---"
   ]
  },
  {
   "cell_type": "code",
   "execution_count": 760,
   "id": "f2af72f7",
   "metadata": {},
   "outputs": [],
   "source": [
    "df_withdrawals = df[(df.action_type == \"withdrawal\")]"
   ]
  },
  {
   "cell_type": "code",
   "execution_count": 761,
   "id": "f79c18dd",
   "metadata": {},
   "outputs": [
    {
     "name": "stdout",
     "output_type": "stream",
     "text": [
      "account_number                0\n",
      "card_id                       0\n",
      "cr_date_time                  0\n",
      "up_date_time                  0\n",
      "status                        0\n",
      "sub_account_type_id           0\n",
      "action_type                   0\n",
      "execution_code_id             0\n",
      "service_provider_name         0\n",
      "amount_in_usd                 0\n",
      "commission_in_usd             0\n",
      "deposits_per_acc              0\n",
      "amount_of_deposits_per_acc    0\n",
      "dtype: int64\n"
     ]
    }
   ],
   "source": [
    "print(df_withdrawals.isnull().sum())"
   ]
  },
  {
   "cell_type": "code",
   "execution_count": 762,
   "id": "dafc389a",
   "metadata": {},
   "outputs": [
    {
     "data": {
      "text/plain": [
       "<AxesSubplot:xlabel='Count', ylabel='action_type'>"
      ]
     },
     "execution_count": 762,
     "metadata": {},
     "output_type": "execute_result"
    },
    {
     "data": {
      "image/png": "[encoded data removed]",
      "text/plain": [
       "<Figure size 432x288 with 1 Axes>"
      ]
     },
     "metadata": {
      "needs_background": "light"
     },
     "output_type": "display_data"
    }
   ],
   "source": [
    "sns.histplot(data=df_withdrawals, y=\"action_type\", hue=\"status\", palette=\"magma\", multiple=\"stack\")"
   ]
  },
  {
   "cell_type": "code",
   "execution_count": 763,
   "id": "c754c3d0",
   "metadata": {
    "scrolled": true
   },
   "outputs": [
    {
     "data": {
      "text/html": [
       "<div>\n",
       "<style scoped>\n",
       "    .dataframe tbody tr th:only-of-type {\n",
       "        vertical-align: middle;\n",
       "    }\n",
       "\n",
       "    .dataframe tbody tr th {\n",
       "        vertical-align: top;\n",
       "    }\n",
       "\n",
       "    .dataframe thead th {\n",
       "        text-align: right;\n",
       "    }\n",
       "</style>\n",
       "<table border=\"1\" class=\"dataframe\">\n",
       "  <thead>\n",
       "    <tr style=\"text-align: right;\">\n",
       "      <th></th>\n",
       "      <th>account_number</th>\n",
       "      <th>status</th>\n",
       "      <th>sub_account_type_id</th>\n",
       "      <th>execution_code_id</th>\n",
       "      <th>amount_in_usd</th>\n",
       "      <th>commission_in_usd</th>\n",
       "      <th>deposits_per_acc</th>\n",
       "      <th>amount_of_deposits_per_acc</th>\n",
       "    </tr>\n",
       "  </thead>\n",
       "  <tbody>\n",
       "    <tr>\n",
       "      <th>count</th>\n",
       "      <td>1.713000e+03</td>\n",
       "      <td>1713.000000</td>\n",
       "      <td>1713.000000</td>\n",
       "      <td>1713.000000</td>\n",
       "      <td>1713.000000</td>\n",
       "      <td>1713.000000</td>\n",
       "      <td>1713.000000</td>\n",
       "      <td>1.713000e+03</td>\n",
       "    </tr>\n",
       "    <tr>\n",
       "      <th>mean</th>\n",
       "      <td>1.311923e+06</td>\n",
       "      <td>1.208990</td>\n",
       "      <td>18.839463</td>\n",
       "      <td>607.374197</td>\n",
       "      <td>415.625865</td>\n",
       "      <td>12.126919</td>\n",
       "      <td>3.529480</td>\n",
       "      <td>1.461373e+12</td>\n",
       "    </tr>\n",
       "    <tr>\n",
       "      <th>std</th>\n",
       "      <td>8.907491e+04</td>\n",
       "      <td>0.410992</td>\n",
       "      <td>6.879421</td>\n",
       "      <td>505.059548</td>\n",
       "      <td>632.108427</td>\n",
       "      <td>15.852647</td>\n",
       "      <td>9.732664</td>\n",
       "      <td>3.021544e+13</td>\n",
       "    </tr>\n",
       "    <tr>\n",
       "      <th>min</th>\n",
       "      <td>1.000701e+06</td>\n",
       "      <td>1.000000</td>\n",
       "      <td>2.000000</td>\n",
       "      <td>0.000000</td>\n",
       "      <td>0.300000</td>\n",
       "      <td>0.000000</td>\n",
       "      <td>0.000000</td>\n",
       "      <td>0.000000e+00</td>\n",
       "    </tr>\n",
       "    <tr>\n",
       "      <th>25%</th>\n",
       "      <td>1.308106e+06</td>\n",
       "      <td>1.000000</td>\n",
       "      <td>21.000000</td>\n",
       "      <td>0.000000</td>\n",
       "      <td>42.000000</td>\n",
       "      <td>2.770000</td>\n",
       "      <td>0.000000</td>\n",
       "      <td>0.000000e+00</td>\n",
       "    </tr>\n",
       "    <tr>\n",
       "      <th>50%</th>\n",
       "      <td>1.346731e+06</td>\n",
       "      <td>1.000000</td>\n",
       "      <td>21.000000</td>\n",
       "      <td>999.000000</td>\n",
       "      <td>181.072832</td>\n",
       "      <td>6.224379</td>\n",
       "      <td>0.000000</td>\n",
       "      <td>0.000000e+00</td>\n",
       "    </tr>\n",
       "    <tr>\n",
       "      <th>75%</th>\n",
       "      <td>1.363379e+06</td>\n",
       "      <td>1.000000</td>\n",
       "      <td>21.000000</td>\n",
       "      <td>999.000000</td>\n",
       "      <td>577.169652</td>\n",
       "      <td>16.126799</td>\n",
       "      <td>3.000000</td>\n",
       "      <td>1.463399e+02</td>\n",
       "    </tr>\n",
       "    <tr>\n",
       "      <th>max</th>\n",
       "      <td>1.373096e+06</td>\n",
       "      <td>4.000000</td>\n",
       "      <td>41.000000</td>\n",
       "      <td>2116.000000</td>\n",
       "      <td>11317.052000</td>\n",
       "      <td>284.623858</td>\n",
       "      <td>119.000000</td>\n",
       "      <td>6.258330e+14</td>\n",
       "    </tr>\n",
       "  </tbody>\n",
       "</table>\n",
       "</div>"
      ],
      "text/plain": [
       "       account_number       status  sub_account_type_id  execution_code_id  \\\n",
       "count    1.713000e+03  1713.000000          1713.000000        1713.000000   \n",
       "mean     1.311923e+06     1.208990            18.839463         607.374197   \n",
       "std      8.907491e+04     0.410992             6.879421         505.059548   \n",
       "min      1.000701e+06     1.000000             2.000000           0.000000   \n",
       "25%      1.308106e+06     1.000000            21.000000           0.000000   \n",
       "50%      1.346731e+06     1.000000            21.000000         999.000000   \n",
       "75%      1.363379e+06     1.000000            21.000000         999.000000   \n",
       "max      1.373096e+06     4.000000            41.000000        2116.000000   \n",
       "\n",
       "       amount_in_usd  commission_in_usd  deposits_per_acc  \\\n",
       "count    1713.000000        1713.000000       1713.000000   \n",
       "mean      415.625865          12.126919          3.529480   \n",
       "std       632.108427          15.852647          9.732664   \n",
       "min         0.300000           0.000000          0.000000   \n",
       "25%        42.000000           2.770000          0.000000   \n",
       "50%       181.072832           6.224379          0.000000   \n",
       "75%       577.169652          16.126799          3.000000   \n",
       "max     11317.052000         284.623858        119.000000   \n",
       "\n",
       "       amount_of_deposits_per_acc  \n",
       "count                1.713000e+03  \n",
       "mean                 1.461373e+12  \n",
       "std                  3.021544e+13  \n",
       "min                  0.000000e+00  \n",
       "25%                  0.000000e+00  \n",
       "50%                  0.000000e+00  \n",
       "75%                  1.463399e+02  \n",
       "max                  6.258330e+14  "
      ]
     },
     "execution_count": 763,
     "metadata": {},
     "output_type": "execute_result"
    }
   ],
   "source": [
    "df_withdrawals.describe()"
   ]
  },
  {
   "cell_type": "code",
   "execution_count": 764,
   "id": "a9158291",
   "metadata": {
    "scrolled": true
   },
   "outputs": [
    {
     "data": {
      "text/html": [
       "<div>\n",
       "<style scoped>\n",
       "    .dataframe tbody tr th:only-of-type {\n",
       "        vertical-align: middle;\n",
       "    }\n",
       "\n",
       "    .dataframe tbody tr th {\n",
       "        vertical-align: top;\n",
       "    }\n",
       "\n",
       "    .dataframe thead th {\n",
       "        text-align: right;\n",
       "    }\n",
       "</style>\n",
       "<table border=\"1\" class=\"dataframe\">\n",
       "  <thead>\n",
       "    <tr style=\"text-align: right;\">\n",
       "      <th></th>\n",
       "      <th>account_number</th>\n",
       "      <th>card_id</th>\n",
       "      <th>cr_date_time</th>\n",
       "      <th>up_date_time</th>\n",
       "      <th>status</th>\n",
       "      <th>sub_account_type_id</th>\n",
       "      <th>action_type</th>\n",
       "      <th>execution_code_id</th>\n",
       "      <th>service_provider_name</th>\n",
       "      <th>amount_in_usd</th>\n",
       "      <th>commission_in_usd</th>\n",
       "      <th>deposits_per_acc</th>\n",
       "      <th>amount_of_deposits_per_acc</th>\n",
       "    </tr>\n",
       "  </thead>\n",
       "  <tbody>\n",
       "    <tr>\n",
       "      <th>5</th>\n",
       "      <td>1334395</td>\n",
       "      <td>a70738de771bf54b217f6736c728920f09d847e45e9b32...</td>\n",
       "      <td>2022-01-15 00:05:00</td>\n",
       "      <td>2022-01-15 00:05:00</td>\n",
       "      <td>1</td>\n",
       "      <td>21.0</td>\n",
       "      <td>withdrawal</td>\n",
       "      <td>999</td>\n",
       "      <td>TransactPro</td>\n",
       "      <td>3.395116</td>\n",
       "      <td>1.788094</td>\n",
       "      <td>2.0</td>\n",
       "      <td>22.973616</td>\n",
       "    </tr>\n",
       "    <tr>\n",
       "      <th>7</th>\n",
       "      <td>1366821</td>\n",
       "      <td>ebdfc6799fd8ed2fb5209de4b46223536af2d588efb151...</td>\n",
       "      <td>2022-01-15 00:40:00</td>\n",
       "      <td>2022-01-15 00:40:00</td>\n",
       "      <td>1</td>\n",
       "      <td>21.0</td>\n",
       "      <td>withdrawal</td>\n",
       "      <td>0</td>\n",
       "      <td>Connectum</td>\n",
       "      <td>54.564665</td>\n",
       "      <td>3.088360</td>\n",
       "      <td>1.0</td>\n",
       "      <td>1.124032</td>\n",
       "    </tr>\n",
       "    <tr>\n",
       "      <th>46</th>\n",
       "      <td>1331397</td>\n",
       "      <td>5c1f77e4cb13947e543de2eddc23aa3de5f44852d87cbd...</td>\n",
       "      <td>2022-01-15 04:02:00</td>\n",
       "      <td>2022-01-15 04:02:00</td>\n",
       "      <td>1</td>\n",
       "      <td>21.0</td>\n",
       "      <td>withdrawal</td>\n",
       "      <td>0</td>\n",
       "      <td>Connectum</td>\n",
       "      <td>540.190183</td>\n",
       "      <td>15.289019</td>\n",
       "      <td>0.0</td>\n",
       "      <td>0.000000</td>\n",
       "    </tr>\n",
       "  </tbody>\n",
       "</table>\n",
       "</div>"
      ],
      "text/plain": [
       "    account_number                                            card_id  \\\n",
       "5          1334395  a70738de771bf54b217f6736c728920f09d847e45e9b32...   \n",
       "7          1366821  ebdfc6799fd8ed2fb5209de4b46223536af2d588efb151...   \n",
       "46         1331397  5c1f77e4cb13947e543de2eddc23aa3de5f44852d87cbd...   \n",
       "\n",
       "          cr_date_time        up_date_time  status  sub_account_type_id  \\\n",
       "5  2022-01-15 00:05:00 2022-01-15 00:05:00       1                 21.0   \n",
       "7  2022-01-15 00:40:00 2022-01-15 00:40:00       1                 21.0   \n",
       "46 2022-01-15 04:02:00 2022-01-15 04:02:00       1                 21.0   \n",
       "\n",
       "   action_type  execution_code_id service_provider_name  amount_in_usd  \\\n",
       "5   withdrawal                999           TransactPro       3.395116   \n",
       "7   withdrawal                  0             Connectum      54.564665   \n",
       "46  withdrawal                  0             Connectum     540.190183   \n",
       "\n",
       "    commission_in_usd  deposits_per_acc  amount_of_deposits_per_acc  \n",
       "5            1.788094               2.0                   22.973616  \n",
       "7            3.088360               1.0                    1.124032  \n",
       "46          15.289019               0.0                    0.000000  "
      ]
     },
     "execution_count": 764,
     "metadata": {},
     "output_type": "execute_result"
    }
   ],
   "source": [
    "df_withdrawals.head(3)"
   ]
  },
  {
   "cell_type": "code",
   "execution_count": null,
   "id": "eda2c50a",
   "metadata": {},
   "outputs": [],
   "source": []
  },
  {
   "cell_type": "markdown",
   "id": "5a5d5907",
   "metadata": {},
   "source": [
    "### <a class=\"anchor\" id=\"1.5_bullet\" style=\"color:orange\"> Adding new feature:\n",
    "- number of withdrawals for each account</a>\n",
    "---\n"
   ]
  },
  {
   "cell_type": "code",
   "execution_count": 765,
   "id": "38a06f6b",
   "metadata": {},
   "outputs": [
    {
     "data": {
      "text/html": [
       "<div>\n",
       "<style scoped>\n",
       "    .dataframe tbody tr th:only-of-type {\n",
       "        vertical-align: middle;\n",
       "    }\n",
       "\n",
       "    .dataframe tbody tr th {\n",
       "        vertical-align: top;\n",
       "    }\n",
       "\n",
       "    .dataframe thead th {\n",
       "        text-align: right;\n",
       "    }\n",
       "</style>\n",
       "<table border=\"1\" class=\"dataframe\">\n",
       "  <thead>\n",
       "    <tr style=\"text-align: right;\">\n",
       "      <th></th>\n",
       "      <th>account_number</th>\n",
       "      <th>withdrawals_per_acc</th>\n",
       "    </tr>\n",
       "  </thead>\n",
       "  <tbody>\n",
       "    <tr>\n",
       "      <th>0</th>\n",
       "      <td>1000701</td>\n",
       "      <td>4</td>\n",
       "    </tr>\n",
       "    <tr>\n",
       "      <th>1</th>\n",
       "      <td>1003276</td>\n",
       "      <td>1</td>\n",
       "    </tr>\n",
       "  </tbody>\n",
       "</table>\n",
       "</div>"
      ],
      "text/plain": [
       "   account_number  withdrawals_per_acc\n",
       "0         1000701                    4\n",
       "1         1003276                    1"
      ]
     },
     "execution_count": 765,
     "metadata": {},
     "output_type": "execute_result"
    }
   ],
   "source": [
    "withdrawals_per_acc = df_withdrawals[[\"action_type\", \"account_number\"]]\\\n",
    "                .groupby(\"account_number\").count()\\\n",
    "                .rename(columns={\"action_type\": \"withdrawals_per_acc\"}).reset_index()\n",
    "withdrawals_per_acc.head(2)"
   ]
  },
  {
   "cell_type": "code",
   "execution_count": 766,
   "id": "8b284cde",
   "metadata": {},
   "outputs": [],
   "source": [
    "df = add_feature_by_account_number(df, withdrawals_per_acc)"
   ]
  },
  {
   "cell_type": "code",
   "execution_count": null,
   "id": "c641a0ff",
   "metadata": {},
   "outputs": [],
   "source": []
  },
  {
   "cell_type": "markdown",
   "id": "cf8edcc9",
   "metadata": {},
   "source": [
    "### <a class=\"anchor\" id=\"1.5_bullet\" style=\"color:orange\"> Adding new feature:\n",
    "- overall amount (sum) of withdrawals for each account</a>\n",
    "---\n"
   ]
  },
  {
   "cell_type": "code",
   "execution_count": 767,
   "id": "e4295d50",
   "metadata": {},
   "outputs": [],
   "source": [
    "amount_of_withdrawals_per_acc = df_withdrawals[[\"amount_in_usd\", \"account_number\"]]\\\n",
    "                .groupby(\"account_number\").sum()\\\n",
    "                .rename(columns={\"amount_in_usd\": \"amount_of_withdrawals_per_acc\"}).reset_index()\n",
    "\n"
   ]
  },
  {
   "cell_type": "code",
   "execution_count": 768,
   "id": "b0cfd342",
   "metadata": {},
   "outputs": [
    {
     "data": {
      "text/html": [
       "<div>\n",
       "<style scoped>\n",
       "    .dataframe tbody tr th:only-of-type {\n",
       "        vertical-align: middle;\n",
       "    }\n",
       "\n",
       "    .dataframe tbody tr th {\n",
       "        vertical-align: top;\n",
       "    }\n",
       "\n",
       "    .dataframe thead th {\n",
       "        text-align: right;\n",
       "    }\n",
       "</style>\n",
       "<table border=\"1\" class=\"dataframe\">\n",
       "  <thead>\n",
       "    <tr style=\"text-align: right;\">\n",
       "      <th></th>\n",
       "      <th>account_number</th>\n",
       "      <th>amount_of_withdrawals_per_acc</th>\n",
       "    </tr>\n",
       "  </thead>\n",
       "  <tbody>\n",
       "    <tr>\n",
       "      <th>275</th>\n",
       "      <td>1329176</td>\n",
       "      <td>15278.020200</td>\n",
       "    </tr>\n",
       "    <tr>\n",
       "      <th>483</th>\n",
       "      <td>1357502</td>\n",
       "      <td>15714.623520</td>\n",
       "    </tr>\n",
       "    <tr>\n",
       "      <th>106</th>\n",
       "      <td>1225555</td>\n",
       "      <td>16781.896906</td>\n",
       "    </tr>\n",
       "    <tr>\n",
       "      <th>283</th>\n",
       "      <td>1330266</td>\n",
       "      <td>17438.866934</td>\n",
       "    </tr>\n",
       "    <tr>\n",
       "      <th>424</th>\n",
       "      <td>1354256</td>\n",
       "      <td>29760.659584</td>\n",
       "    </tr>\n",
       "  </tbody>\n",
       "</table>\n",
       "</div>"
      ],
      "text/plain": [
       "     account_number  amount_of_withdrawals_per_acc\n",
       "275         1329176                   15278.020200\n",
       "483         1357502                   15714.623520\n",
       "106         1225555                   16781.896906\n",
       "283         1330266                   17438.866934\n",
       "424         1354256                   29760.659584"
      ]
     },
     "execution_count": 768,
     "metadata": {},
     "output_type": "execute_result"
    }
   ],
   "source": [
    "amount_of_withdrawals_per_acc.sort_values(by=\"amount_of_withdrawals_per_acc\").tail()"
   ]
  },
  {
   "cell_type": "code",
   "execution_count": 769,
   "id": "531ab7e6",
   "metadata": {},
   "outputs": [],
   "source": [
    "df = add_feature_by_account_number(df, amount_of_withdrawals_per_acc)"
   ]
  },
  {
   "cell_type": "code",
   "execution_count": null,
   "id": "b0823dcc",
   "metadata": {},
   "outputs": [],
   "source": []
  },
  {
   "cell_type": "markdown",
   "id": "a1000420",
   "metadata": {},
   "source": [
    "## <a class=\"anchor\" id=\"1.5_bullet\" style=\"color:#b14404\"> Card info CRUD operations </a>\n",
    "---\n"
   ]
  },
  {
   "cell_type": "code",
   "execution_count": 770,
   "id": "a2d9d79d",
   "metadata": {},
   "outputs": [],
   "source": [
    "df_card_info = df[(df.action_type == \"add_card\")\\\n",
    "                  | (df.action_type == \"remove_card\")\\\n",
    "                  | (df.action_type == \"card_status_update\")].drop(columns=[\n",
    "                                                                \"sub_account_type_id\",\n",
    "                                                                \"commission_in_usd\",\n",
    "                                                                \"amount_in_usd\",\n",
    "                                                                ])\n"
   ]
  },
  {
   "cell_type": "code",
   "execution_count": null,
   "id": "3b92202c",
   "metadata": {},
   "outputs": [],
   "source": []
  },
  {
   "cell_type": "markdown",
   "id": "56458099",
   "metadata": {},
   "source": [
    "### <a class=\"anchor\" id=\"1.5_bullet\" style=\"color:orange\"> Adding new feature:\n",
    "- number of cards that were added to each account</a>\n",
    "---\n"
   ]
  },
  {
   "cell_type": "code",
   "execution_count": 771,
   "id": "342f23a3",
   "metadata": {},
   "outputs": [
    {
     "data": {
      "text/html": [
       "<div>\n",
       "<style scoped>\n",
       "    .dataframe tbody tr th:only-of-type {\n",
       "        vertical-align: middle;\n",
       "    }\n",
       "\n",
       "    .dataframe tbody tr th {\n",
       "        vertical-align: top;\n",
       "    }\n",
       "\n",
       "    .dataframe thead th {\n",
       "        text-align: right;\n",
       "    }\n",
       "</style>\n",
       "<table border=\"1\" class=\"dataframe\">\n",
       "  <thead>\n",
       "    <tr style=\"text-align: right;\">\n",
       "      <th></th>\n",
       "      <th>account_number</th>\n",
       "      <th>num_of_added_cards</th>\n",
       "    </tr>\n",
       "  </thead>\n",
       "  <tbody>\n",
       "    <tr>\n",
       "      <th>0</th>\n",
       "      <td>1000701</td>\n",
       "      <td>1</td>\n",
       "    </tr>\n",
       "    <tr>\n",
       "      <th>1</th>\n",
       "      <td>1003494</td>\n",
       "      <td>1</td>\n",
       "    </tr>\n",
       "  </tbody>\n",
       "</table>\n",
       "</div>"
      ],
      "text/plain": [
       "   account_number  num_of_added_cards\n",
       "0         1000701                   1\n",
       "1         1003494                   1"
      ]
     },
     "execution_count": 771,
     "metadata": {},
     "output_type": "execute_result"
    }
   ],
   "source": [
    "added_cards = df_card_info[(df_card_info.action_type == \"add_card\")][[\"action_type\", \"account_number\"]]\\\n",
    "                .groupby(\"account_number\").count()\\\n",
    "                .rename(columns={\"action_type\": \"num_of_added_cards\"}).reset_index()\n",
    "\n",
    "added_cards.head(2)"
   ]
  },
  {
   "cell_type": "code",
   "execution_count": 772,
   "id": "832fe548",
   "metadata": {},
   "outputs": [],
   "source": [
    "df = add_feature_by_account_number(df, added_cards)"
   ]
  },
  {
   "cell_type": "code",
   "execution_count": 773,
   "id": "747cfe91",
   "metadata": {},
   "outputs": [
    {
     "name": "stderr",
     "output_type": "stream",
     "text": [
      "C:\\Users\\DELL\\anaconda3\\lib\\site-packages\\seaborn\\distributions.py:2619: FutureWarning: `distplot` is a deprecated function and will be removed in a future version. Please adapt your code to use either `displot` (a figure-level function with similar flexibility) or `histplot` (an axes-level function for histograms).\n",
      "  warnings.warn(msg, FutureWarning)\n"
     ]
    },
    {
     "data": {
      "text/plain": [
       "<AxesSubplot:xlabel='num_of_added_cards', ylabel='Density'>"
      ]
     },
     "execution_count": 773,
     "metadata": {},
     "output_type": "execute_result"
    },
    {
     "data": {
      "image/png": "[encoded data removed]",
      "text/plain": [
       "<Figure size 432x288 with 1 Axes>"
      ]
     },
     "metadata": {
      "needs_background": "light"
     },
     "output_type": "display_data"
    }
   ],
   "source": [
    "sns.distplot(added_cards[\"num_of_added_cards\"])"
   ]
  },
  {
   "cell_type": "code",
   "execution_count": 774,
   "id": "3407635d",
   "metadata": {},
   "outputs": [
    {
     "data": {
      "text/plain": [
       "account_number        1371556.8\n",
       "num_of_added_cards          6.0\n",
       "Name: 0.9, dtype: float64"
      ]
     },
     "execution_count": 774,
     "metadata": {},
     "output_type": "execute_result"
    }
   ],
   "source": [
    "added_cards.quantile(0.9)"
   ]
  },
  {
   "cell_type": "code",
   "execution_count": 775,
   "id": "b2b3b57c",
   "metadata": {},
   "outputs": [
    {
     "data": {
      "text/html": [
       "<div>\n",
       "<style scoped>\n",
       "    .dataframe tbody tr th:only-of-type {\n",
       "        vertical-align: middle;\n",
       "    }\n",
       "\n",
       "    .dataframe tbody tr th {\n",
       "        vertical-align: top;\n",
       "    }\n",
       "\n",
       "    .dataframe thead th {\n",
       "        text-align: right;\n",
       "    }\n",
       "</style>\n",
       "<table border=\"1\" class=\"dataframe\">\n",
       "  <thead>\n",
       "    <tr style=\"text-align: right;\">\n",
       "      <th></th>\n",
       "      <th>account_number</th>\n",
       "      <th>num_of_added_cards</th>\n",
       "    </tr>\n",
       "  </thead>\n",
       "  <tbody>\n",
       "    <tr>\n",
       "      <th>count</th>\n",
       "      <td>2.054000e+03</td>\n",
       "      <td>2054.000000</td>\n",
       "    </tr>\n",
       "    <tr>\n",
       "      <th>mean</th>\n",
       "      <td>1.339411e+06</td>\n",
       "      <td>3.185005</td>\n",
       "    </tr>\n",
       "    <tr>\n",
       "      <th>std</th>\n",
       "      <td>6.723412e+04</td>\n",
       "      <td>9.185900</td>\n",
       "    </tr>\n",
       "    <tr>\n",
       "      <th>min</th>\n",
       "      <td>1.000701e+06</td>\n",
       "      <td>1.000000</td>\n",
       "    </tr>\n",
       "    <tr>\n",
       "      <th>25%</th>\n",
       "      <td>1.343595e+06</td>\n",
       "      <td>1.000000</td>\n",
       "    </tr>\n",
       "    <tr>\n",
       "      <th>50%</th>\n",
       "      <td>1.361213e+06</td>\n",
       "      <td>1.000000</td>\n",
       "    </tr>\n",
       "    <tr>\n",
       "      <th>75%</th>\n",
       "      <td>1.369415e+06</td>\n",
       "      <td>3.000000</td>\n",
       "    </tr>\n",
       "    <tr>\n",
       "      <th>max</th>\n",
       "      <td>2.089221e+06</td>\n",
       "      <td>340.000000</td>\n",
       "    </tr>\n",
       "  </tbody>\n",
       "</table>\n",
       "</div>"
      ],
      "text/plain": [
       "       account_number  num_of_added_cards\n",
       "count    2.054000e+03         2054.000000\n",
       "mean     1.339411e+06            3.185005\n",
       "std      6.723412e+04            9.185900\n",
       "min      1.000701e+06            1.000000\n",
       "25%      1.343595e+06            1.000000\n",
       "50%      1.361213e+06            1.000000\n",
       "75%      1.369415e+06            3.000000\n",
       "max      2.089221e+06          340.000000"
      ]
     },
     "execution_count": 775,
     "metadata": {},
     "output_type": "execute_result"
    }
   ],
   "source": [
    "added_cards.describe()"
   ]
  },
  {
   "cell_type": "code",
   "execution_count": null,
   "id": "12aaa4b5",
   "metadata": {},
   "outputs": [],
   "source": []
  },
  {
   "cell_type": "markdown",
   "id": "14ca4203",
   "metadata": {},
   "source": [
    "### <a class=\"anchor\" id=\"1.5_bullet\" style=\"color:orange\"> Adding new feature:\n",
    "- number of cards that were removed from each account</a>\n",
    "---\n"
   ]
  },
  {
   "cell_type": "code",
   "execution_count": 776,
   "id": "722eb742",
   "metadata": {},
   "outputs": [
    {
     "data": {
      "text/html": [
       "<div>\n",
       "<style scoped>\n",
       "    .dataframe tbody tr th:only-of-type {\n",
       "        vertical-align: middle;\n",
       "    }\n",
       "\n",
       "    .dataframe tbody tr th {\n",
       "        vertical-align: top;\n",
       "    }\n",
       "\n",
       "    .dataframe thead th {\n",
       "        text-align: right;\n",
       "    }\n",
       "</style>\n",
       "<table border=\"1\" class=\"dataframe\">\n",
       "  <thead>\n",
       "    <tr style=\"text-align: right;\">\n",
       "      <th></th>\n",
       "      <th>account_number</th>\n",
       "      <th>num_of_removed_cards</th>\n",
       "    </tr>\n",
       "  </thead>\n",
       "  <tbody>\n",
       "    <tr>\n",
       "      <th>0</th>\n",
       "      <td>1007399</td>\n",
       "      <td>1</td>\n",
       "    </tr>\n",
       "    <tr>\n",
       "      <th>1</th>\n",
       "      <td>1011042</td>\n",
       "      <td>1</td>\n",
       "    </tr>\n",
       "  </tbody>\n",
       "</table>\n",
       "</div>"
      ],
      "text/plain": [
       "   account_number  num_of_removed_cards\n",
       "0         1007399                     1\n",
       "1         1011042                     1"
      ]
     },
     "execution_count": 776,
     "metadata": {},
     "output_type": "execute_result"
    }
   ],
   "source": [
    "removed_cards = df_card_info[(df_card_info.action_type == \"remove_card\")][[\"action_type\", \"account_number\"]]\\\n",
    "                .groupby(\"account_number\").count()\\\n",
    "                .rename(columns={\"action_type\": \"num_of_removed_cards\"}).reset_index()\n",
    "removed_cards.head(2)"
   ]
  },
  {
   "cell_type": "code",
   "execution_count": 777,
   "id": "f9808c35",
   "metadata": {},
   "outputs": [],
   "source": [
    "df = add_feature_by_account_number(df, removed_cards)"
   ]
  },
  {
   "cell_type": "code",
   "execution_count": 778,
   "id": "84a0330e",
   "metadata": {},
   "outputs": [
    {
     "name": "stderr",
     "output_type": "stream",
     "text": [
      "C:\\Users\\DELL\\anaconda3\\lib\\site-packages\\seaborn\\distributions.py:2619: FutureWarning: `distplot` is a deprecated function and will be removed in a future version. Please adapt your code to use either `displot` (a figure-level function with similar flexibility) or `histplot` (an axes-level function for histograms).\n",
      "  warnings.warn(msg, FutureWarning)\n"
     ]
    },
    {
     "data": {
      "text/plain": [
       "<AxesSubplot:xlabel='num_of_removed_cards', ylabel='Density'>"
      ]
     },
     "execution_count": 778,
     "metadata": {},
     "output_type": "execute_result"
    },
    {
     "data": {
      "image/png": "[encoded data removed]",
      "text/plain": [
       "<Figure size 432x288 with 1 Axes>"
      ]
     },
     "metadata": {
      "needs_background": "light"
     },
     "output_type": "display_data"
    }
   ],
   "source": [
    "sns.distplot(removed_cards[\"num_of_removed_cards\"])"
   ]
  },
  {
   "cell_type": "code",
   "execution_count": 779,
   "id": "b1c144ab",
   "metadata": {
    "scrolled": true
   },
   "outputs": [
    {
     "data": {
      "text/html": [
       "<div>\n",
       "<style scoped>\n",
       "    .dataframe tbody tr th:only-of-type {\n",
       "        vertical-align: middle;\n",
       "    }\n",
       "\n",
       "    .dataframe tbody tr th {\n",
       "        vertical-align: top;\n",
       "    }\n",
       "\n",
       "    .dataframe thead th {\n",
       "        text-align: right;\n",
       "    }\n",
       "</style>\n",
       "<table border=\"1\" class=\"dataframe\">\n",
       "  <thead>\n",
       "    <tr style=\"text-align: right;\">\n",
       "      <th></th>\n",
       "      <th>account_number</th>\n",
       "      <th>num_of_removed_cards</th>\n",
       "    </tr>\n",
       "  </thead>\n",
       "  <tbody>\n",
       "    <tr>\n",
       "      <th>count</th>\n",
       "      <td>6.930000e+02</td>\n",
       "      <td>693.000000</td>\n",
       "    </tr>\n",
       "    <tr>\n",
       "      <th>mean</th>\n",
       "      <td>1.313848e+06</td>\n",
       "      <td>1.330447</td>\n",
       "    </tr>\n",
       "    <tr>\n",
       "      <th>std</th>\n",
       "      <td>8.378922e+04</td>\n",
       "      <td>0.839184</td>\n",
       "    </tr>\n",
       "    <tr>\n",
       "      <th>min</th>\n",
       "      <td>1.007399e+06</td>\n",
       "      <td>1.000000</td>\n",
       "    </tr>\n",
       "    <tr>\n",
       "      <th>25%</th>\n",
       "      <td>1.303784e+06</td>\n",
       "      <td>1.000000</td>\n",
       "    </tr>\n",
       "    <tr>\n",
       "      <th>50%</th>\n",
       "      <td>1.346928e+06</td>\n",
       "      <td>1.000000</td>\n",
       "    </tr>\n",
       "    <tr>\n",
       "      <th>75%</th>\n",
       "      <td>1.363069e+06</td>\n",
       "      <td>1.000000</td>\n",
       "    </tr>\n",
       "    <tr>\n",
       "      <th>max</th>\n",
       "      <td>1.373333e+06</td>\n",
       "      <td>11.000000</td>\n",
       "    </tr>\n",
       "  </tbody>\n",
       "</table>\n",
       "</div>"
      ],
      "text/plain": [
       "       account_number  num_of_removed_cards\n",
       "count    6.930000e+02            693.000000\n",
       "mean     1.313848e+06              1.330447\n",
       "std      8.378922e+04              0.839184\n",
       "min      1.007399e+06              1.000000\n",
       "25%      1.303784e+06              1.000000\n",
       "50%      1.346928e+06              1.000000\n",
       "75%      1.363069e+06              1.000000\n",
       "max      1.373333e+06             11.000000"
      ]
     },
     "execution_count": 779,
     "metadata": {},
     "output_type": "execute_result"
    }
   ],
   "source": [
    "removed_cards.describe()"
   ]
  },
  {
   "cell_type": "code",
   "execution_count": null,
   "id": "1b8d4cb0",
   "metadata": {},
   "outputs": [],
   "source": []
  },
  {
   "cell_type": "markdown",
   "id": "25255fa1",
   "metadata": {},
   "source": [
    "### <a class=\"anchor\" id=\"1.5_bullet\" style=\"color:orange\"> Adding new feature:\n",
    "- number of cards that were updated for each account</a>\n",
    "---\n"
   ]
  },
  {
   "cell_type": "code",
   "execution_count": 780,
   "id": "0b261db4",
   "metadata": {},
   "outputs": [
    {
     "data": {
      "text/html": [
       "<div>\n",
       "<style scoped>\n",
       "    .dataframe tbody tr th:only-of-type {\n",
       "        vertical-align: middle;\n",
       "    }\n",
       "\n",
       "    .dataframe tbody tr th {\n",
       "        vertical-align: top;\n",
       "    }\n",
       "\n",
       "    .dataframe thead th {\n",
       "        text-align: right;\n",
       "    }\n",
       "</style>\n",
       "<table border=\"1\" class=\"dataframe\">\n",
       "  <thead>\n",
       "    <tr style=\"text-align: right;\">\n",
       "      <th></th>\n",
       "      <th>account_number</th>\n",
       "      <th>num_of_updated_cards</th>\n",
       "    </tr>\n",
       "  </thead>\n",
       "  <tbody>\n",
       "    <tr>\n",
       "      <th>0</th>\n",
       "      <td>1000024</td>\n",
       "      <td>1</td>\n",
       "    </tr>\n",
       "    <tr>\n",
       "      <th>1</th>\n",
       "      <td>1000701</td>\n",
       "      <td>1</td>\n",
       "    </tr>\n",
       "  </tbody>\n",
       "</table>\n",
       "</div>"
      ],
      "text/plain": [
       "   account_number  num_of_updated_cards\n",
       "0         1000024                     1\n",
       "1         1000701                     1"
      ]
     },
     "execution_count": 780,
     "metadata": {},
     "output_type": "execute_result"
    }
   ],
   "source": [
    "updated_cards = df_card_info[(df_card_info.action_type == \"card_status_update\")][[\"action_type\", \"account_number\"]]\\\n",
    "                .groupby(\"account_number\").count()\\\n",
    "                .rename(columns={\"action_type\": \"num_of_updated_cards\"}).reset_index()\n",
    "updated_cards.head(2)"
   ]
  },
  {
   "cell_type": "code",
   "execution_count": 781,
   "id": "ba922b87",
   "metadata": {},
   "outputs": [
    {
     "name": "stderr",
     "output_type": "stream",
     "text": [
      "C:\\Users\\DELL\\anaconda3\\lib\\site-packages\\seaborn\\distributions.py:2619: FutureWarning: `distplot` is a deprecated function and will be removed in a future version. Please adapt your code to use either `displot` (a figure-level function with similar flexibility) or `histplot` (an axes-level function for histograms).\n",
      "  warnings.warn(msg, FutureWarning)\n"
     ]
    },
    {
     "data": {
      "text/plain": [
       "<AxesSubplot:xlabel='num_of_updated_cards', ylabel='Density'>"
      ]
     },
     "execution_count": 781,
     "metadata": {},
     "output_type": "execute_result"
    },
    {
     "data": {
      "image/png": "[encoded data removed]",
      "text/plain": [
       "<Figure size 432x288 with 1 Axes>"
      ]
     },
     "metadata": {
      "needs_background": "light"
     },
     "output_type": "display_data"
    }
   ],
   "source": [
    "sns.distplot(updated_cards[\"num_of_updated_cards\"])"
   ]
  },
  {
   "cell_type": "code",
   "execution_count": 782,
   "id": "4e74325b",
   "metadata": {},
   "outputs": [],
   "source": [
    "df = add_feature_by_account_number(df, updated_cards)"
   ]
  },
  {
   "cell_type": "code",
   "execution_count": null,
   "id": "92c7f597",
   "metadata": {},
   "outputs": [],
   "source": []
  },
  {
   "cell_type": "markdown",
   "id": "d88cc0e4",
   "metadata": {},
   "source": [
    "### <a class=\"anchor\" id=\"1.5_bullet\" style=\"color:orange\"> Adding new feature:\n",
    "- Time difference beetween transaction creation and status update time </a>\n",
    "---\n"
   ]
  },
  {
   "cell_type": "code",
   "execution_count": 783,
   "id": "514853e1",
   "metadata": {},
   "outputs": [],
   "source": [
    "df['up_date_time'] = df['up_date_time'].map(dt.datetime.toordinal)\n",
    "df['cr_date_time'] = df['cr_date_time'].map(dt.datetime.toordinal)\n",
    "df['time_difference'] = df['up_date_time'] - df['cr_date_time']"
   ]
  },
  {
   "cell_type": "code",
   "execution_count": 784,
   "id": "0bddd1bc",
   "metadata": {
    "scrolled": true
   },
   "outputs": [
    {
     "name": "stderr",
     "output_type": "stream",
     "text": [
      "C:\\Users\\DELL\\anaconda3\\lib\\site-packages\\seaborn\\distributions.py:2619: FutureWarning: `distplot` is a deprecated function and will be removed in a future version. Please adapt your code to use either `displot` (a figure-level function with similar flexibility) or `histplot` (an axes-level function for histograms).\n",
      "  warnings.warn(msg, FutureWarning)\n"
     ]
    },
    {
     "data": {
      "text/plain": [
       "<AxesSubplot:xlabel='time_difference', ylabel='Density'>"
      ]
     },
     "execution_count": 784,
     "metadata": {},
     "output_type": "execute_result"
    },
    {
     "data": {
      "image/png": "[encoded data removed]",
      "text/plain": [
       "<Figure size 432x288 with 1 Axes>"
      ]
     },
     "metadata": {
      "needs_background": "light"
     },
     "output_type": "display_data"
    }
   ],
   "source": [
    "sns.distplot(df['time_difference'])"
   ]
  },
  {
   "cell_type": "code",
   "execution_count": null,
   "id": "874be1f6",
   "metadata": {},
   "outputs": [],
   "source": []
  },
  {
   "cell_type": "markdown",
   "id": "985d5e49",
   "metadata": {},
   "source": [
    "### <a class=\"anchor\" id=\"1.5_bullet\" style=\"color:orange\"> Droping redundant columns</a>\n",
    "---\n"
   ]
  },
  {
   "cell_type": "code",
   "execution_count": 785,
   "id": "91e04fae",
   "metadata": {},
   "outputs": [],
   "source": [
    "df = df.drop(columns=['account_number', 'card_id', 'cr_date_time', 'up_date_time'])"
   ]
  },
  {
   "cell_type": "code",
   "execution_count": 786,
   "id": "f3bfffda",
   "metadata": {
    "scrolled": true
   },
   "outputs": [
    {
     "data": {
      "text/html": [
       "<div>\n",
       "<style scoped>\n",
       "    .dataframe tbody tr th:only-of-type {\n",
       "        vertical-align: middle;\n",
       "    }\n",
       "\n",
       "    .dataframe tbody tr th {\n",
       "        vertical-align: top;\n",
       "    }\n",
       "\n",
       "    .dataframe thead th {\n",
       "        text-align: right;\n",
       "    }\n",
       "</style>\n",
       "<table border=\"1\" class=\"dataframe\">\n",
       "  <thead>\n",
       "    <tr style=\"text-align: right;\">\n",
       "      <th></th>\n",
       "      <th>status</th>\n",
       "      <th>sub_account_type_id</th>\n",
       "      <th>action_type</th>\n",
       "      <th>execution_code_id</th>\n",
       "      <th>service_provider_name</th>\n",
       "      <th>amount_in_usd</th>\n",
       "      <th>commission_in_usd</th>\n",
       "      <th>deposits_per_acc</th>\n",
       "      <th>amount_of_deposits_per_acc</th>\n",
       "      <th>withdrawals_per_acc</th>\n",
       "      <th>amount_of_withdrawals_per_acc</th>\n",
       "      <th>num_of_added_cards</th>\n",
       "      <th>num_of_removed_cards</th>\n",
       "      <th>num_of_updated_cards</th>\n",
       "      <th>time_difference</th>\n",
       "    </tr>\n",
       "  </thead>\n",
       "  <tbody>\n",
       "    <tr>\n",
       "      <th>3510436</th>\n",
       "      <td>2</td>\n",
       "      <td>21.0</td>\n",
       "      <td>deposit</td>\n",
       "      <td>1103</td>\n",
       "      <td>Connectum</td>\n",
       "      <td>1.030000</td>\n",
       "      <td>0.030000</td>\n",
       "      <td>23.0</td>\n",
       "      <td>596.479195</td>\n",
       "      <td>0.0</td>\n",
       "      <td>0.0</td>\n",
       "      <td>0.0</td>\n",
       "      <td>0.0</td>\n",
       "      <td>0.0</td>\n",
       "      <td>0</td>\n",
       "    </tr>\n",
       "    <tr>\n",
       "      <th>3510437</th>\n",
       "      <td>2</td>\n",
       "      <td>21.0</td>\n",
       "      <td>deposit</td>\n",
       "      <td>1103</td>\n",
       "      <td>Connectum</td>\n",
       "      <td>1.030000</td>\n",
       "      <td>0.030000</td>\n",
       "      <td>23.0</td>\n",
       "      <td>596.479195</td>\n",
       "      <td>0.0</td>\n",
       "      <td>0.0</td>\n",
       "      <td>0.0</td>\n",
       "      <td>0.0</td>\n",
       "      <td>0.0</td>\n",
       "      <td>0</td>\n",
       "    </tr>\n",
       "    <tr>\n",
       "      <th>3510438</th>\n",
       "      <td>2</td>\n",
       "      <td>21.0</td>\n",
       "      <td>deposit</td>\n",
       "      <td>1102</td>\n",
       "      <td>Connectum</td>\n",
       "      <td>98.605474</td>\n",
       "      <td>2.410532</td>\n",
       "      <td>5.0</td>\n",
       "      <td>496.325474</td>\n",
       "      <td>0.0</td>\n",
       "      <td>0.0</td>\n",
       "      <td>0.0</td>\n",
       "      <td>0.0</td>\n",
       "      <td>1.0</td>\n",
       "      <td>0</td>\n",
       "    </tr>\n",
       "    <tr>\n",
       "      <th>3510439</th>\n",
       "      <td>2</td>\n",
       "      <td>21.0</td>\n",
       "      <td>deposit</td>\n",
       "      <td>1103</td>\n",
       "      <td>Connectum</td>\n",
       "      <td>23.199957</td>\n",
       "      <td>0.565853</td>\n",
       "      <td>7.0</td>\n",
       "      <td>353.804997</td>\n",
       "      <td>0.0</td>\n",
       "      <td>0.0</td>\n",
       "      <td>0.0</td>\n",
       "      <td>0.0</td>\n",
       "      <td>0.0</td>\n",
       "      <td>0</td>\n",
       "    </tr>\n",
       "    <tr>\n",
       "      <th>3510441</th>\n",
       "      <td>2</td>\n",
       "      <td>21.0</td>\n",
       "      <td>deposit</td>\n",
       "      <td>1102</td>\n",
       "      <td>Connectum</td>\n",
       "      <td>99.430000</td>\n",
       "      <td>2.430000</td>\n",
       "      <td>5.0</td>\n",
       "      <td>496.325474</td>\n",
       "      <td>0.0</td>\n",
       "      <td>0.0</td>\n",
       "      <td>0.0</td>\n",
       "      <td>0.0</td>\n",
       "      <td>1.0</td>\n",
       "      <td>0</td>\n",
       "    </tr>\n",
       "    <tr>\n",
       "      <th>...</th>\n",
       "      <td>...</td>\n",
       "      <td>...</td>\n",
       "      <td>...</td>\n",
       "      <td>...</td>\n",
       "      <td>...</td>\n",
       "      <td>...</td>\n",
       "      <td>...</td>\n",
       "      <td>...</td>\n",
       "      <td>...</td>\n",
       "      <td>...</td>\n",
       "      <td>...</td>\n",
       "      <td>...</td>\n",
       "      <td>...</td>\n",
       "      <td>...</td>\n",
       "      <td>...</td>\n",
       "    </tr>\n",
       "    <tr>\n",
       "      <th>3656624</th>\n",
       "      <td>2</td>\n",
       "      <td>21.0</td>\n",
       "      <td>deposit</td>\n",
       "      <td>1103</td>\n",
       "      <td>Connectum</td>\n",
       "      <td>95.583821</td>\n",
       "      <td>2.783995</td>\n",
       "      <td>50.0</td>\n",
       "      <td>4824.110879</td>\n",
       "      <td>0.0</td>\n",
       "      <td>0.0</td>\n",
       "      <td>10.0</td>\n",
       "      <td>0.0</td>\n",
       "      <td>0.0</td>\n",
       "      <td>0</td>\n",
       "    </tr>\n",
       "    <tr>\n",
       "      <th>3656625</th>\n",
       "      <td>2</td>\n",
       "      <td>21.0</td>\n",
       "      <td>deposit</td>\n",
       "      <td>1103</td>\n",
       "      <td>Connectum</td>\n",
       "      <td>95.583821</td>\n",
       "      <td>2.783995</td>\n",
       "      <td>50.0</td>\n",
       "      <td>4824.110879</td>\n",
       "      <td>0.0</td>\n",
       "      <td>0.0</td>\n",
       "      <td>10.0</td>\n",
       "      <td>0.0</td>\n",
       "      <td>0.0</td>\n",
       "      <td>0</td>\n",
       "    </tr>\n",
       "    <tr>\n",
       "      <th>3656626</th>\n",
       "      <td>2</td>\n",
       "      <td>21.0</td>\n",
       "      <td>deposit</td>\n",
       "      <td>299</td>\n",
       "      <td>TransactPro</td>\n",
       "      <td>97.380000</td>\n",
       "      <td>2.380000</td>\n",
       "      <td>1.0</td>\n",
       "      <td>97.380000</td>\n",
       "      <td>0.0</td>\n",
       "      <td>0.0</td>\n",
       "      <td>1.0</td>\n",
       "      <td>0.0</td>\n",
       "      <td>0.0</td>\n",
       "      <td>0</td>\n",
       "    </tr>\n",
       "    <tr>\n",
       "      <th>3656628</th>\n",
       "      <td>2</td>\n",
       "      <td>21.0</td>\n",
       "      <td>deposit</td>\n",
       "      <td>1103</td>\n",
       "      <td>Connectum</td>\n",
       "      <td>95.583821</td>\n",
       "      <td>2.783995</td>\n",
       "      <td>50.0</td>\n",
       "      <td>4824.110879</td>\n",
       "      <td>0.0</td>\n",
       "      <td>0.0</td>\n",
       "      <td>10.0</td>\n",
       "      <td>0.0</td>\n",
       "      <td>0.0</td>\n",
       "      <td>0</td>\n",
       "    </tr>\n",
       "    <tr>\n",
       "      <th>3656629</th>\n",
       "      <td>2</td>\n",
       "      <td>21.0</td>\n",
       "      <td>deposit</td>\n",
       "      <td>1103</td>\n",
       "      <td>Connectum</td>\n",
       "      <td>97.380000</td>\n",
       "      <td>2.380000</td>\n",
       "      <td>54.0</td>\n",
       "      <td>5525.301496</td>\n",
       "      <td>0.0</td>\n",
       "      <td>0.0</td>\n",
       "      <td>1.0</td>\n",
       "      <td>0.0</td>\n",
       "      <td>0.0</td>\n",
       "      <td>0</td>\n",
       "    </tr>\n",
       "  </tbody>\n",
       "</table>\n",
       "<p>38342 rows × 15 columns</p>\n",
       "</div>"
      ],
      "text/plain": [
       "         status  sub_account_type_id action_type  execution_code_id  \\\n",
       "3510436       2                 21.0     deposit               1103   \n",
       "3510437       2                 21.0     deposit               1103   \n",
       "3510438       2                 21.0     deposit               1102   \n",
       "3510439       2                 21.0     deposit               1103   \n",
       "3510441       2                 21.0     deposit               1102   \n",
       "...         ...                  ...         ...                ...   \n",
       "3656624       2                 21.0     deposit               1103   \n",
       "3656625       2                 21.0     deposit               1103   \n",
       "3656626       2                 21.0     deposit                299   \n",
       "3656628       2                 21.0     deposit               1103   \n",
       "3656629       2                 21.0     deposit               1103   \n",
       "\n",
       "        service_provider_name  amount_in_usd  commission_in_usd  \\\n",
       "3510436             Connectum       1.030000           0.030000   \n",
       "3510437             Connectum       1.030000           0.030000   \n",
       "3510438             Connectum      98.605474           2.410532   \n",
       "3510439             Connectum      23.199957           0.565853   \n",
       "3510441             Connectum      99.430000           2.430000   \n",
       "...                       ...            ...                ...   \n",
       "3656624             Connectum      95.583821           2.783995   \n",
       "3656625             Connectum      95.583821           2.783995   \n",
       "3656626           TransactPro      97.380000           2.380000   \n",
       "3656628             Connectum      95.583821           2.783995   \n",
       "3656629             Connectum      97.380000           2.380000   \n",
       "\n",
       "         deposits_per_acc  amount_of_deposits_per_acc  withdrawals_per_acc  \\\n",
       "3510436              23.0                  596.479195                  0.0   \n",
       "3510437              23.0                  596.479195                  0.0   \n",
       "3510438               5.0                  496.325474                  0.0   \n",
       "3510439               7.0                  353.804997                  0.0   \n",
       "3510441               5.0                  496.325474                  0.0   \n",
       "...                   ...                         ...                  ...   \n",
       "3656624              50.0                 4824.110879                  0.0   \n",
       "3656625              50.0                 4824.110879                  0.0   \n",
       "3656626               1.0                   97.380000                  0.0   \n",
       "3656628              50.0                 4824.110879                  0.0   \n",
       "3656629              54.0                 5525.301496                  0.0   \n",
       "\n",
       "         amount_of_withdrawals_per_acc  num_of_added_cards  \\\n",
       "3510436                            0.0                 0.0   \n",
       "3510437                            0.0                 0.0   \n",
       "3510438                            0.0                 0.0   \n",
       "3510439                            0.0                 0.0   \n",
       "3510441                            0.0                 0.0   \n",
       "...                                ...                 ...   \n",
       "3656624                            0.0                10.0   \n",
       "3656625                            0.0                10.0   \n",
       "3656626                            0.0                 1.0   \n",
       "3656628                            0.0                10.0   \n",
       "3656629                            0.0                 1.0   \n",
       "\n",
       "         num_of_removed_cards  num_of_updated_cards  time_difference  \n",
       "3510436                   0.0                   0.0                0  \n",
       "3510437                   0.0                   0.0                0  \n",
       "3510438                   0.0                   1.0                0  \n",
       "3510439                   0.0                   0.0                0  \n",
       "3510441                   0.0                   1.0                0  \n",
       "...                       ...                   ...              ...  \n",
       "3656624                   0.0                   0.0                0  \n",
       "3656625                   0.0                   0.0                0  \n",
       "3656626                   0.0                   0.0                0  \n",
       "3656628                   0.0                   0.0                0  \n",
       "3656629                   0.0                   0.0                0  \n",
       "\n",
       "[38342 rows x 15 columns]"
      ]
     },
     "execution_count": 786,
     "metadata": {},
     "output_type": "execute_result"
    }
   ],
   "source": [
    "df = df.set_index(indexes)\n",
    "df"
   ]
  },
  {
   "cell_type": "code",
   "execution_count": 787,
   "id": "39d281aa",
   "metadata": {},
   "outputs": [
    {
     "name": "stdout",
     "output_type": "stream",
     "text": [
      "\u001b[4mNUMBER OF NULL VALUES PER COLUMN:\u001b[0m\n"
     ]
    },
    {
     "data": {
      "image/png": "[encoded data removed]",
      "text/plain": [
       "<Figure size 432x288 with 1 Axes>"
      ]
     },
     "metadata": {
      "needs_background": "light"
     },
     "output_type": "display_data"
    },
    {
     "name": "stdout",
     "output_type": "stream",
     "text": [
      "status                              0\n",
      "sub_account_type_id              9567\n",
      "action_type                         0\n",
      "execution_code_id                   0\n",
      "service_provider_name               0\n",
      "amount_in_usd                    3466\n",
      "commission_in_usd                9569\n",
      "deposits_per_acc                    0\n",
      "amount_of_deposits_per_acc          0\n",
      "withdrawals_per_acc                 0\n",
      "amount_of_withdrawals_per_acc       0\n",
      "num_of_added_cards                  0\n",
      "num_of_removed_cards                0\n",
      "num_of_updated_cards                0\n",
      "time_difference                     0\n",
      "dtype: int64\n"
     ]
    }
   ],
   "source": [
    "print(\"\\033[4mNUMBER OF NULL VALUES PER COLUMN:\\033[0m\")\n",
    "\n",
    "sns.heatmap(df.isnull(),cbar=False,cmap='viridis')\n",
    "plt.show()\n",
    "print(df.isnull().sum())\n",
    "cols_with_nan = df.columns[df.isna().any()].tolist()"
   ]
  },
  {
   "cell_type": "code",
   "execution_count": 788,
   "id": "ab89b776",
   "metadata": {
    "scrolled": true
   },
   "outputs": [
    {
     "data": {
      "text/plain": [
       "['sub_account_type_id', 'amount_in_usd', 'commission_in_usd']"
      ]
     },
     "execution_count": 788,
     "metadata": {},
     "output_type": "execute_result"
    }
   ],
   "source": [
    "cols_with_nan"
   ]
  },
  {
   "cell_type": "code",
   "execution_count": null,
   "id": "9bd1a91c",
   "metadata": {},
   "outputs": [],
   "source": []
  },
  {
   "cell_type": "markdown",
   "id": "5fe6c675",
   "metadata": {},
   "source": [
    "### <a class=\"anchor\" id=\"1.5_bullet\" style=\"color:orange\"> One-Hot encoding categorical features </a>\n",
    "---\n"
   ]
  },
  {
   "cell_type": "code",
   "execution_count": 789,
   "id": "072a0abb",
   "metadata": {},
   "outputs": [],
   "source": [
    "for col in df.columns[:5]:\n",
    "    dummy_na = False\n",
    "    if col in cols_with_nan:\n",
    "        dummy_na = True\n",
    "    dummies = pd.get_dummies(df[col], dummy_na=dummy_na, drop_first=True, prefix=col)\n",
    "    df = pd.concat([df, dummies], axis=1).drop(columns=[col])"
   ]
  },
  {
   "cell_type": "code",
   "execution_count": 790,
   "id": "8ae48029",
   "metadata": {},
   "outputs": [
    {
     "data": {
      "text/html": [
       "<div>\n",
       "<style scoped>\n",
       "    .dataframe tbody tr th:only-of-type {\n",
       "        vertical-align: middle;\n",
       "    }\n",
       "\n",
       "    .dataframe tbody tr th {\n",
       "        vertical-align: top;\n",
       "    }\n",
       "\n",
       "    .dataframe thead th {\n",
       "        text-align: right;\n",
       "    }\n",
       "</style>\n",
       "<table border=\"1\" class=\"dataframe\">\n",
       "  <thead>\n",
       "    <tr style=\"text-align: right;\">\n",
       "      <th></th>\n",
       "      <th>amount_in_usd</th>\n",
       "      <th>commission_in_usd</th>\n",
       "      <th>deposits_per_acc</th>\n",
       "      <th>amount_of_deposits_per_acc</th>\n",
       "      <th>withdrawals_per_acc</th>\n",
       "      <th>amount_of_withdrawals_per_acc</th>\n",
       "      <th>num_of_added_cards</th>\n",
       "      <th>num_of_removed_cards</th>\n",
       "      <th>num_of_updated_cards</th>\n",
       "      <th>time_difference</th>\n",
       "      <th>...</th>\n",
       "      <th>execution_code_id_1104</th>\n",
       "      <th>execution_code_id_1105</th>\n",
       "      <th>execution_code_id_1106</th>\n",
       "      <th>execution_code_id_1107</th>\n",
       "      <th>execution_code_id_1108</th>\n",
       "      <th>execution_code_id_1199</th>\n",
       "      <th>execution_code_id_2116</th>\n",
       "      <th>execution_code_id_2121</th>\n",
       "      <th>service_provider_name_Decta</th>\n",
       "      <th>service_provider_name_TransactPro</th>\n",
       "    </tr>\n",
       "  </thead>\n",
       "  <tbody>\n",
       "    <tr>\n",
       "      <th>3510436</th>\n",
       "      <td>1.030000</td>\n",
       "      <td>0.030000</td>\n",
       "      <td>23.0</td>\n",
       "      <td>596.479195</td>\n",
       "      <td>0.0</td>\n",
       "      <td>0.0</td>\n",
       "      <td>0.0</td>\n",
       "      <td>0.0</td>\n",
       "      <td>0.0</td>\n",
       "      <td>0</td>\n",
       "      <td>...</td>\n",
       "      <td>0</td>\n",
       "      <td>0</td>\n",
       "      <td>0</td>\n",
       "      <td>0</td>\n",
       "      <td>0</td>\n",
       "      <td>0</td>\n",
       "      <td>0</td>\n",
       "      <td>0</td>\n",
       "      <td>0</td>\n",
       "      <td>0</td>\n",
       "    </tr>\n",
       "    <tr>\n",
       "      <th>3510437</th>\n",
       "      <td>1.030000</td>\n",
       "      <td>0.030000</td>\n",
       "      <td>23.0</td>\n",
       "      <td>596.479195</td>\n",
       "      <td>0.0</td>\n",
       "      <td>0.0</td>\n",
       "      <td>0.0</td>\n",
       "      <td>0.0</td>\n",
       "      <td>0.0</td>\n",
       "      <td>0</td>\n",
       "      <td>...</td>\n",
       "      <td>0</td>\n",
       "      <td>0</td>\n",
       "      <td>0</td>\n",
       "      <td>0</td>\n",
       "      <td>0</td>\n",
       "      <td>0</td>\n",
       "      <td>0</td>\n",
       "      <td>0</td>\n",
       "      <td>0</td>\n",
       "      <td>0</td>\n",
       "    </tr>\n",
       "    <tr>\n",
       "      <th>3510438</th>\n",
       "      <td>98.605474</td>\n",
       "      <td>2.410532</td>\n",
       "      <td>5.0</td>\n",
       "      <td>496.325474</td>\n",
       "      <td>0.0</td>\n",
       "      <td>0.0</td>\n",
       "      <td>0.0</td>\n",
       "      <td>0.0</td>\n",
       "      <td>1.0</td>\n",
       "      <td>0</td>\n",
       "      <td>...</td>\n",
       "      <td>0</td>\n",
       "      <td>0</td>\n",
       "      <td>0</td>\n",
       "      <td>0</td>\n",
       "      <td>0</td>\n",
       "      <td>0</td>\n",
       "      <td>0</td>\n",
       "      <td>0</td>\n",
       "      <td>0</td>\n",
       "      <td>0</td>\n",
       "    </tr>\n",
       "    <tr>\n",
       "      <th>3510439</th>\n",
       "      <td>23.199957</td>\n",
       "      <td>0.565853</td>\n",
       "      <td>7.0</td>\n",
       "      <td>353.804997</td>\n",
       "      <td>0.0</td>\n",
       "      <td>0.0</td>\n",
       "      <td>0.0</td>\n",
       "      <td>0.0</td>\n",
       "      <td>0.0</td>\n",
       "      <td>0</td>\n",
       "      <td>...</td>\n",
       "      <td>0</td>\n",
       "      <td>0</td>\n",
       "      <td>0</td>\n",
       "      <td>0</td>\n",
       "      <td>0</td>\n",
       "      <td>0</td>\n",
       "      <td>0</td>\n",
       "      <td>0</td>\n",
       "      <td>0</td>\n",
       "      <td>0</td>\n",
       "    </tr>\n",
       "    <tr>\n",
       "      <th>3510441</th>\n",
       "      <td>99.430000</td>\n",
       "      <td>2.430000</td>\n",
       "      <td>5.0</td>\n",
       "      <td>496.325474</td>\n",
       "      <td>0.0</td>\n",
       "      <td>0.0</td>\n",
       "      <td>0.0</td>\n",
       "      <td>0.0</td>\n",
       "      <td>1.0</td>\n",
       "      <td>0</td>\n",
       "      <td>...</td>\n",
       "      <td>0</td>\n",
       "      <td>0</td>\n",
       "      <td>0</td>\n",
       "      <td>0</td>\n",
       "      <td>0</td>\n",
       "      <td>0</td>\n",
       "      <td>0</td>\n",
       "      <td>0</td>\n",
       "      <td>0</td>\n",
       "      <td>0</td>\n",
       "    </tr>\n",
       "  </tbody>\n",
       "</table>\n",
       "<p>5 rows × 39 columns</p>\n",
       "</div>"
      ],
      "text/plain": [
       "         amount_in_usd  commission_in_usd  deposits_per_acc  \\\n",
       "3510436       1.030000           0.030000              23.0   \n",
       "3510437       1.030000           0.030000              23.0   \n",
       "3510438      98.605474           2.410532               5.0   \n",
       "3510439      23.199957           0.565853               7.0   \n",
       "3510441      99.430000           2.430000               5.0   \n",
       "\n",
       "         amount_of_deposits_per_acc  withdrawals_per_acc  \\\n",
       "3510436                  596.479195                  0.0   \n",
       "3510437                  596.479195                  0.0   \n",
       "3510438                  496.325474                  0.0   \n",
       "3510439                  353.804997                  0.0   \n",
       "3510441                  496.325474                  0.0   \n",
       "\n",
       "         amount_of_withdrawals_per_acc  num_of_added_cards  \\\n",
       "3510436                            0.0                 0.0   \n",
       "3510437                            0.0                 0.0   \n",
       "3510438                            0.0                 0.0   \n",
       "3510439                            0.0                 0.0   \n",
       "3510441                            0.0                 0.0   \n",
       "\n",
       "         num_of_removed_cards  num_of_updated_cards  time_difference  ...  \\\n",
       "3510436                   0.0                   0.0                0  ...   \n",
       "3510437                   0.0                   0.0                0  ...   \n",
       "3510438                   0.0                   1.0                0  ...   \n",
       "3510439                   0.0                   0.0                0  ...   \n",
       "3510441                   0.0                   1.0                0  ...   \n",
       "\n",
       "         execution_code_id_1104  execution_code_id_1105  \\\n",
       "3510436                       0                       0   \n",
       "3510437                       0                       0   \n",
       "3510438                       0                       0   \n",
       "3510439                       0                       0   \n",
       "3510441                       0                       0   \n",
       "\n",
       "         execution_code_id_1106  execution_code_id_1107  \\\n",
       "3510436                       0                       0   \n",
       "3510437                       0                       0   \n",
       "3510438                       0                       0   \n",
       "3510439                       0                       0   \n",
       "3510441                       0                       0   \n",
       "\n",
       "         execution_code_id_1108  execution_code_id_1199  \\\n",
       "3510436                       0                       0   \n",
       "3510437                       0                       0   \n",
       "3510438                       0                       0   \n",
       "3510439                       0                       0   \n",
       "3510441                       0                       0   \n",
       "\n",
       "         execution_code_id_2116  execution_code_id_2121  \\\n",
       "3510436                       0                       0   \n",
       "3510437                       0                       0   \n",
       "3510438                       0                       0   \n",
       "3510439                       0                       0   \n",
       "3510441                       0                       0   \n",
       "\n",
       "         service_provider_name_Decta  service_provider_name_TransactPro  \n",
       "3510436                            0                                  0  \n",
       "3510437                            0                                  0  \n",
       "3510438                            0                                  0  \n",
       "3510439                            0                                  0  \n",
       "3510441                            0                                  0  \n",
       "\n",
       "[5 rows x 39 columns]"
      ]
     },
     "execution_count": 790,
     "metadata": {},
     "output_type": "execute_result"
    }
   ],
   "source": [
    "df.head(5)"
   ]
  },
  {
   "cell_type": "code",
   "execution_count": null,
   "id": "28b64dcf",
   "metadata": {},
   "outputs": [],
   "source": []
  },
  {
   "cell_type": "markdown",
   "id": "0d77bf6c",
   "metadata": {},
   "source": [
    "### <a class=\"anchor\" id=\"1.5_bullet\" style=\"color:orange\"> Filling NaN's with 0 </a>\n",
    "---\n",
    "\n",
    "#### The point is that some transactions like *add_card* or *remove_card* action types do not have any money transferring, so this cells are empty now"
   ]
  },
  {
   "cell_type": "code",
   "execution_count": 791,
   "id": "0153f365",
   "metadata": {},
   "outputs": [],
   "source": [
    "df = df.fillna(0)"
   ]
  },
  {
   "cell_type": "code",
   "execution_count": 792,
   "id": "0f3d046a",
   "metadata": {},
   "outputs": [
    {
     "name": "stdout",
     "output_type": "stream",
     "text": [
      "amount_in_usd             0\n",
      "action_type_withdrawal    0\n",
      "execution_code_id_206     0\n",
      "execution_code_id_299     0\n",
      "execution_code_id_310     0\n",
      "dtype: int64\n"
     ]
    }
   ],
   "source": [
    "print(df.isnull().sum().sort_values().head(5))"
   ]
  },
  {
   "cell_type": "code",
   "execution_count": null,
   "id": "04b79974",
   "metadata": {},
   "outputs": [],
   "source": []
  },
  {
   "cell_type": "code",
   "execution_count": null,
   "id": "db8caa45",
   "metadata": {},
   "outputs": [],
   "source": []
  },
  {
   "cell_type": "markdown",
   "id": "e63c9c07",
   "metadata": {},
   "source": [
    "# <a class=\"anchor\" id=\"1.5_bullet\" style=\"color:#b20999\"> **MODELING** </a>\n",
    "---\n"
   ]
  },
  {
   "attachments": {
    "image-2.png": {
     "image/png": "[encoded data removed]"
    }
   },
   "cell_type": "markdown",
   "id": "a8b0cbd5",
   "metadata": {},
   "source": [
    "##### The total number of card transactions using cards issued in SEPA amounted to 100.75 billion in 2019, of which 24.16 million were fraudulent (see Chart 1b).\n",
    "![image-2.png](attachment:image-2.png)\n",
    "https://www.ecb.europa.eu/pub/cardfraud/html/ecb.cardfraudreport202110~cac4c418e8.en.html"
   ]
  },
  {
   "cell_type": "markdown",
   "id": "e010707f",
   "metadata": {},
   "source": [
    "#### **This means that about 0.02398% of transactions are fraudulent.**"
   ]
  },
  {
   "cell_type": "code",
   "execution_count": null,
   "id": "7a6708d2",
   "metadata": {},
   "outputs": [],
   "source": []
  },
  {
   "cell_type": "markdown",
   "id": "1316de8c",
   "metadata": {},
   "source": [
    "## <a class=\"anchor\" id=\"1.5_bullet\" style=\"color:#b14404\"> Isolation Forest model </a>\n",
    "---\n"
   ]
  },
  {
   "cell_type": "markdown",
   "id": "f472ced5",
   "metadata": {},
   "source": [
    "##### Even so only less than 0.5% of all transactions are fraudlent, I will set the *contamination* parameter value to the 0.05 (5%), because we need to optimise **recall**, not **precision** - **we need model to predict all fraud transactions, even if there will be many False Positives**."
   ]
  },
  {
   "cell_type": "code",
   "execution_count": 793,
   "id": "8a05f1a2",
   "metadata": {},
   "outputs": [
    {
     "name": "stderr",
     "output_type": "stream",
     "text": [
      "C:\\Users\\DELL\\AppData\\Roaming\\Python\\Python39\\site-packages\\sklearn\\base.py:450: UserWarning: X does not have valid feature names, but IsolationForest was fitted with feature names\n",
      "  warnings.warn(\n"
     ]
    }
   ],
   "source": [
    "from sklearn.ensemble import IsolationForest\n",
    "\n",
    "iforest = IsolationForest(n_estimators=5000,n_jobs=-1, contamination=0.05,\\\n",
    "                          random_state=42)\n",
    "\n",
    "df['isolation_forest_prediction']=iforest.fit_predict(df)\n",
    "\n",
    "df['isolation_forest_prediction'].replace({1:0,-1:1},inplace=True)"
   ]
  },
  {
   "cell_type": "code",
   "execution_count": 794,
   "id": "72a3d486",
   "metadata": {
    "scrolled": true
   },
   "outputs": [
    {
     "data": {
      "text/plain": [
       "0    36424\n",
       "1     1918\n",
       "Name: isolation_forest_prediction, dtype: int64"
      ]
     },
     "execution_count": 794,
     "metadata": {},
     "output_type": "execute_result"
    }
   ],
   "source": [
    "df['isolation_forest_prediction'].value_counts()"
   ]
  },
  {
   "cell_type": "code",
   "execution_count": 795,
   "id": "ceeee53f",
   "metadata": {},
   "outputs": [
    {
     "name": "stdout",
     "output_type": "stream",
     "text": [
      "\u001b[4mThe number of transactions that were identified as anomalies by Isolation Forest:\u001b[0m\n",
      "1918\n",
      "\n"
     ]
    }
   ],
   "source": [
    "pos = df[df['isolation_forest_prediction'] > 0]\n",
    "print(\"\\033[4mThe number of transactions that were identified as anomalies by Isolation Forest:\\033[0m\")\n",
    "\n",
    "print(pos.shape[0])\n",
    "print()\n"
   ]
  },
  {
   "cell_type": "code",
   "execution_count": 796,
   "id": "42dbc83c",
   "metadata": {},
   "outputs": [
    {
     "data": {
      "text/plain": [
       "0.000000       401\n",
       "0.100000       376\n",
       "51.250000       27\n",
       "5125.000000     27\n",
       "1091.293300     26\n",
       "              ... \n",
       "7449.907505      1\n",
       "1127.500000      1\n",
       "1009.118915      1\n",
       "38.552281        1\n",
       "889.404040       1\n",
       "Name: amount_in_usd, Length: 607, dtype: int64"
      ]
     },
     "execution_count": 796,
     "metadata": {},
     "output_type": "execute_result"
    }
   ],
   "source": [
    "pos.amount_in_usd.value_counts()"
   ]
  },
  {
   "cell_type": "code",
   "execution_count": 797,
   "id": "bfea8783",
   "metadata": {},
   "outputs": [],
   "source": [
    "df.to_csv(\"processed_df.csv\")"
   ]
  },
  {
   "cell_type": "code",
   "execution_count": 798,
   "id": "2b3b9d6f",
   "metadata": {},
   "outputs": [],
   "source": [
    "results = df[\"isolation_forest_prediction\"].rename(\"anomaly\")"
   ]
  },
  {
   "cell_type": "code",
   "execution_count": 799,
   "id": "bbb0f8fe",
   "metadata": {},
   "outputs": [],
   "source": [
    "results.to_csv(\"results.csv\")"
   ]
  },
  {
   "cell_type": "code",
   "execution_count": null,
   "id": "3b904f95",
   "metadata": {},
   "outputs": [],
   "source": []
  },
  {
   "cell_type": "code",
   "execution_count": null,
   "id": "3a6d3353",
   "metadata": {},
   "outputs": [],
   "source": []
  }
 ],
 "metadata": {
  "kernelspec": {
   "display_name": "Python 3 (ipykernel)",
   "language": "python",
   "name": "python3"
  },
  "language_info": {
   "codemirror_mode": {
    "name": "ipython",
    "version": 3
   },
   "file_extension": ".py",
   "mimetype": "text/x-python",
   "name": "python",
   "nbconvert_exporter": "python",
   "pygments_lexer": "ipython3",
   "version": "3.9.7"
  }
 },
 "nbformat": 4,
 "nbformat_minor": 5
}
